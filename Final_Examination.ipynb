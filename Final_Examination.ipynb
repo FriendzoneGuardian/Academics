{
  "nbformat": 4,
  "nbformat_minor": 0,
  "metadata": {
    "colab": {
      "provenance": [],
      "include_colab_link": true
    },
    "kernelspec": {
      "name": "python3",
      "display_name": "Python 3"
    },
    "language_info": {
      "name": "python"
    },
    "accelerator": "GPU",
    "gpuClass": "standard"
  },
  "cells": [
    {
      "cell_type": "markdown",
      "metadata": {
        "id": "view-in-github",
        "colab_type": "text"
      },
      "source": [
        "<a href=\"https://colab.research.google.com/github/FriendzoneGuardian/Academics/blob/main/Final_Examination.ipynb\" target=\"_parent\"><img src=\"https://colab.research.google.com/assets/colab-badge.svg\" alt=\"Open In Colab\"/></a>"
      ]
    },
    {
      "cell_type": "markdown",
      "source": [
        "**Calling of Libraries**"
      ],
      "metadata": {
        "id": "-nSBxEKB5WBa"
      }
    },
    {
      "cell_type": "code",
      "execution_count": null,
      "metadata": {
        "id": "UvxUYQNTQNn-"
      },
      "outputs": [],
      "source": [
        "import matplotlib.pyplot as plt\n",
        "import matplotlib.pyplot as plt\n",
        "plt.style.use('fivethirtyeight')\n",
        "plt.style.use('dark_background')\n",
        "import numpy as np\n",
        "import pandas as pd\n",
        "import seaborn as sns\n",
        "from matplotlib.colors import ListedColormap\n",
        "from scipy.stats import norm, boxcox\n",
        "from sklearn.metrics import confusion_matrix, classification_report, accuracy_score\n",
        "from collections import Counter\n",
        "from scipy import stats\n",
        "from tqdm import tqdm_notebook"
      ]
    },
    {
      "cell_type": "markdown",
      "source": [
        "**Generating of Dataset**"
      ],
      "metadata": {
        "id": "Idltf4fawvjE"
      }
    },
    {
      "cell_type": "code",
      "source": [
        "dataset = pd.read_csv('/content/drive/MyDrive/Colab Notebooks/datafiles/WineQT.csv')"
      ],
      "metadata": {
        "id": "BNt2R2BjQb_a"
      },
      "execution_count": null,
      "outputs": []
    },
    {
      "cell_type": "markdown",
      "source": [
        "**Displaying and checking of generated Dataset ( Pre Processing )**"
      ],
      "metadata": {
        "id": "fxjlv2_i5jy8"
      }
    },
    {
      "cell_type": "code",
      "source": [
        "dataset.head()"
      ],
      "metadata": {
        "colab": {
          "base_uri": "https://localhost:8080/",
          "height": 206
        },
        "id": "JFDK4OhcQhu4",
        "outputId": "46c28832-dddc-47bf-daec-7a2ec7f7fd63"
      },
      "execution_count": null,
      "outputs": [
        {
          "output_type": "execute_result",
          "data": {
            "text/plain": [
              "   fixed acidity  volatile acidity  citric acid  residual sugar  chlorides  \\\n",
              "0            7.4              0.70         0.00             1.9      0.076   \n",
              "1            7.8              0.88         0.00             2.6      0.098   \n",
              "2            7.8              0.76         0.04             2.3      0.092   \n",
              "3           11.2              0.28         0.56             1.9      0.075   \n",
              "4            7.4              0.70         0.00             1.9      0.076   \n",
              "\n",
              "   free sulfur dioxide  total sulfur dioxide  density    pH  sulphates  \\\n",
              "0                 11.0                  34.0   0.9978  3.51       0.56   \n",
              "1                 25.0                  67.0   0.9968  3.20       0.68   \n",
              "2                 15.0                  54.0   0.9970  3.26       0.65   \n",
              "3                 17.0                  60.0   0.9980  3.16       0.58   \n",
              "4                 11.0                  34.0   0.9978  3.51       0.56   \n",
              "\n",
              "   alcohol  quality  Id  \n",
              "0      9.4        5   0  \n",
              "1      9.8        5   1  \n",
              "2      9.8        5   2  \n",
              "3      9.8        6   3  \n",
              "4      9.4        5   4  "
            ],
            "text/html": [
              "\n",
              "  <div id=\"df-67c84ef8-d87a-41bf-9ab8-42842ba3a102\">\n",
              "    <div class=\"colab-df-container\">\n",
              "      <div>\n",
              "<style scoped>\n",
              "    .dataframe tbody tr th:only-of-type {\n",
              "        vertical-align: middle;\n",
              "    }\n",
              "\n",
              "    .dataframe tbody tr th {\n",
              "        vertical-align: top;\n",
              "    }\n",
              "\n",
              "    .dataframe thead th {\n",
              "        text-align: right;\n",
              "    }\n",
              "</style>\n",
              "<table border=\"1\" class=\"dataframe\">\n",
              "  <thead>\n",
              "    <tr style=\"text-align: right;\">\n",
              "      <th></th>\n",
              "      <th>fixed acidity</th>\n",
              "      <th>volatile acidity</th>\n",
              "      <th>citric acid</th>\n",
              "      <th>residual sugar</th>\n",
              "      <th>chlorides</th>\n",
              "      <th>free sulfur dioxide</th>\n",
              "      <th>total sulfur dioxide</th>\n",
              "      <th>density</th>\n",
              "      <th>pH</th>\n",
              "      <th>sulphates</th>\n",
              "      <th>alcohol</th>\n",
              "      <th>quality</th>\n",
              "      <th>Id</th>\n",
              "    </tr>\n",
              "  </thead>\n",
              "  <tbody>\n",
              "    <tr>\n",
              "      <th>0</th>\n",
              "      <td>7.4</td>\n",
              "      <td>0.70</td>\n",
              "      <td>0.00</td>\n",
              "      <td>1.9</td>\n",
              "      <td>0.076</td>\n",
              "      <td>11.0</td>\n",
              "      <td>34.0</td>\n",
              "      <td>0.9978</td>\n",
              "      <td>3.51</td>\n",
              "      <td>0.56</td>\n",
              "      <td>9.4</td>\n",
              "      <td>5</td>\n",
              "      <td>0</td>\n",
              "    </tr>\n",
              "    <tr>\n",
              "      <th>1</th>\n",
              "      <td>7.8</td>\n",
              "      <td>0.88</td>\n",
              "      <td>0.00</td>\n",
              "      <td>2.6</td>\n",
              "      <td>0.098</td>\n",
              "      <td>25.0</td>\n",
              "      <td>67.0</td>\n",
              "      <td>0.9968</td>\n",
              "      <td>3.20</td>\n",
              "      <td>0.68</td>\n",
              "      <td>9.8</td>\n",
              "      <td>5</td>\n",
              "      <td>1</td>\n",
              "    </tr>\n",
              "    <tr>\n",
              "      <th>2</th>\n",
              "      <td>7.8</td>\n",
              "      <td>0.76</td>\n",
              "      <td>0.04</td>\n",
              "      <td>2.3</td>\n",
              "      <td>0.092</td>\n",
              "      <td>15.0</td>\n",
              "      <td>54.0</td>\n",
              "      <td>0.9970</td>\n",
              "      <td>3.26</td>\n",
              "      <td>0.65</td>\n",
              "      <td>9.8</td>\n",
              "      <td>5</td>\n",
              "      <td>2</td>\n",
              "    </tr>\n",
              "    <tr>\n",
              "      <th>3</th>\n",
              "      <td>11.2</td>\n",
              "      <td>0.28</td>\n",
              "      <td>0.56</td>\n",
              "      <td>1.9</td>\n",
              "      <td>0.075</td>\n",
              "      <td>17.0</td>\n",
              "      <td>60.0</td>\n",
              "      <td>0.9980</td>\n",
              "      <td>3.16</td>\n",
              "      <td>0.58</td>\n",
              "      <td>9.8</td>\n",
              "      <td>6</td>\n",
              "      <td>3</td>\n",
              "    </tr>\n",
              "    <tr>\n",
              "      <th>4</th>\n",
              "      <td>7.4</td>\n",
              "      <td>0.70</td>\n",
              "      <td>0.00</td>\n",
              "      <td>1.9</td>\n",
              "      <td>0.076</td>\n",
              "      <td>11.0</td>\n",
              "      <td>34.0</td>\n",
              "      <td>0.9978</td>\n",
              "      <td>3.51</td>\n",
              "      <td>0.56</td>\n",
              "      <td>9.4</td>\n",
              "      <td>5</td>\n",
              "      <td>4</td>\n",
              "    </tr>\n",
              "  </tbody>\n",
              "</table>\n",
              "</div>\n",
              "      <button class=\"colab-df-convert\" onclick=\"convertToInteractive('df-67c84ef8-d87a-41bf-9ab8-42842ba3a102')\"\n",
              "              title=\"Convert this dataframe to an interactive table.\"\n",
              "              style=\"display:none;\">\n",
              "        \n",
              "  <svg xmlns=\"http://www.w3.org/2000/svg\" height=\"24px\"viewBox=\"0 0 24 24\"\n",
              "       width=\"24px\">\n",
              "    <path d=\"M0 0h24v24H0V0z\" fill=\"none\"/>\n",
              "    <path d=\"M18.56 5.44l.94 2.06.94-2.06 2.06-.94-2.06-.94-.94-2.06-.94 2.06-2.06.94zm-11 1L8.5 8.5l.94-2.06 2.06-.94-2.06-.94L8.5 2.5l-.94 2.06-2.06.94zm10 10l.94 2.06.94-2.06 2.06-.94-2.06-.94-.94-2.06-.94 2.06-2.06.94z\"/><path d=\"M17.41 7.96l-1.37-1.37c-.4-.4-.92-.59-1.43-.59-.52 0-1.04.2-1.43.59L10.3 9.45l-7.72 7.72c-.78.78-.78 2.05 0 2.83L4 21.41c.39.39.9.59 1.41.59.51 0 1.02-.2 1.41-.59l7.78-7.78 2.81-2.81c.8-.78.8-2.07 0-2.86zM5.41 20L4 18.59l7.72-7.72 1.47 1.35L5.41 20z\"/>\n",
              "  </svg>\n",
              "      </button>\n",
              "      \n",
              "  <style>\n",
              "    .colab-df-container {\n",
              "      display:flex;\n",
              "      flex-wrap:wrap;\n",
              "      gap: 12px;\n",
              "    }\n",
              "\n",
              "    .colab-df-convert {\n",
              "      background-color: #E8F0FE;\n",
              "      border: none;\n",
              "      border-radius: 50%;\n",
              "      cursor: pointer;\n",
              "      display: none;\n",
              "      fill: #1967D2;\n",
              "      height: 32px;\n",
              "      padding: 0 0 0 0;\n",
              "      width: 32px;\n",
              "    }\n",
              "\n",
              "    .colab-df-convert:hover {\n",
              "      background-color: #E2EBFA;\n",
              "      box-shadow: 0px 1px 2px rgba(60, 64, 67, 0.3), 0px 1px 3px 1px rgba(60, 64, 67, 0.15);\n",
              "      fill: #174EA6;\n",
              "    }\n",
              "\n",
              "    [theme=dark] .colab-df-convert {\n",
              "      background-color: #3B4455;\n",
              "      fill: #D2E3FC;\n",
              "    }\n",
              "\n",
              "    [theme=dark] .colab-df-convert:hover {\n",
              "      background-color: #434B5C;\n",
              "      box-shadow: 0px 1px 3px 1px rgba(0, 0, 0, 0.15);\n",
              "      filter: drop-shadow(0px 1px 2px rgba(0, 0, 0, 0.3));\n",
              "      fill: #FFFFFF;\n",
              "    }\n",
              "  </style>\n",
              "\n",
              "      <script>\n",
              "        const buttonEl =\n",
              "          document.querySelector('#df-67c84ef8-d87a-41bf-9ab8-42842ba3a102 button.colab-df-convert');\n",
              "        buttonEl.style.display =\n",
              "          google.colab.kernel.accessAllowed ? 'block' : 'none';\n",
              "\n",
              "        async function convertToInteractive(key) {\n",
              "          const element = document.querySelector('#df-67c84ef8-d87a-41bf-9ab8-42842ba3a102');\n",
              "          const dataTable =\n",
              "            await google.colab.kernel.invokeFunction('convertToInteractive',\n",
              "                                                     [key], {});\n",
              "          if (!dataTable) return;\n",
              "\n",
              "          const docLinkHtml = 'Like what you see? Visit the ' +\n",
              "            '<a target=\"_blank\" href=https://colab.research.google.com/notebooks/data_table.ipynb>data table notebook</a>'\n",
              "            + ' to learn more about interactive tables.';\n",
              "          element.innerHTML = '';\n",
              "          dataTable['output_type'] = 'display_data';\n",
              "          await google.colab.output.renderOutput(dataTable, element);\n",
              "          const docLink = document.createElement('div');\n",
              "          docLink.innerHTML = docLinkHtml;\n",
              "          element.appendChild(docLink);\n",
              "        }\n",
              "      </script>\n",
              "    </div>\n",
              "  </div>\n",
              "  "
            ]
          },
          "metadata": {},
          "execution_count": 4
        }
      ]
    },
    {
      "cell_type": "markdown",
      "source": [
        "**Checking any Null Values**"
      ],
      "metadata": {
        "id": "OK5zYJq55s0q"
      }
    },
    {
      "cell_type": "code",
      "source": [
        "dataset.isnull().values.any()"
      ],
      "metadata": {
        "colab": {
          "base_uri": "https://localhost:8080/"
        },
        "id": "k1VzH-UTQmUn",
        "outputId": "33c2d5c1-2dcb-44e1-e675-fa03c74b442b"
      },
      "execution_count": null,
      "outputs": [
        {
          "output_type": "execute_result",
          "data": {
            "text/plain": [
              "False"
            ]
          },
          "metadata": {},
          "execution_count": 5
        }
      ]
    },
    {
      "cell_type": "code",
      "source": [
        "dataset.dropna(inplace =True)"
      ],
      "metadata": {
        "id": "3lk_azsPQo1k"
      },
      "execution_count": null,
      "outputs": []
    },
    {
      "cell_type": "code",
      "source": [
        "dataset[[\"fixed acidity\", \"volatile acidity\", \"citric acid\", \"residual sugar\", \"free sulfur dioxide\", \"total sulfur dioxide\", \"pH\", \"alcohol\"]].fillna(method='ffill')"
      ],
      "metadata": {
        "id": "Om9FRiFFQq7R",
        "colab": {
          "base_uri": "https://localhost:8080/",
          "height": 423
        },
        "outputId": "d8857266-c612-4fcf-d97f-7051728d2a08"
      },
      "execution_count": null,
      "outputs": [
        {
          "output_type": "execute_result",
          "data": {
            "text/plain": [
              "      fixed acidity  volatile acidity  citric acid  residual sugar  \\\n",
              "0               7.4             0.700         0.00             1.9   \n",
              "1               7.8             0.880         0.00             2.6   \n",
              "2               7.8             0.760         0.04             2.3   \n",
              "3              11.2             0.280         0.56             1.9   \n",
              "4               7.4             0.700         0.00             1.9   \n",
              "...             ...               ...          ...             ...   \n",
              "1138            6.3             0.510         0.13             2.3   \n",
              "1139            6.8             0.620         0.08             1.9   \n",
              "1140            6.2             0.600         0.08             2.0   \n",
              "1141            5.9             0.550         0.10             2.2   \n",
              "1142            5.9             0.645         0.12             2.0   \n",
              "\n",
              "      free sulfur dioxide  total sulfur dioxide    pH  alcohol  \n",
              "0                    11.0                  34.0  3.51      9.4  \n",
              "1                    25.0                  67.0  3.20      9.8  \n",
              "2                    15.0                  54.0  3.26      9.8  \n",
              "3                    17.0                  60.0  3.16      9.8  \n",
              "4                    11.0                  34.0  3.51      9.4  \n",
              "...                   ...                   ...   ...      ...  \n",
              "1138                 29.0                  40.0  3.42     11.0  \n",
              "1139                 28.0                  38.0  3.42      9.5  \n",
              "1140                 32.0                  44.0  3.45     10.5  \n",
              "1141                 39.0                  51.0  3.52     11.2  \n",
              "1142                 32.0                  44.0  3.57     10.2  \n",
              "\n",
              "[1143 rows x 8 columns]"
            ],
            "text/html": [
              "\n",
              "  <div id=\"df-84ecece0-7e2a-4ac3-9149-8298ed8e480b\">\n",
              "    <div class=\"colab-df-container\">\n",
              "      <div>\n",
              "<style scoped>\n",
              "    .dataframe tbody tr th:only-of-type {\n",
              "        vertical-align: middle;\n",
              "    }\n",
              "\n",
              "    .dataframe tbody tr th {\n",
              "        vertical-align: top;\n",
              "    }\n",
              "\n",
              "    .dataframe thead th {\n",
              "        text-align: right;\n",
              "    }\n",
              "</style>\n",
              "<table border=\"1\" class=\"dataframe\">\n",
              "  <thead>\n",
              "    <tr style=\"text-align: right;\">\n",
              "      <th></th>\n",
              "      <th>fixed acidity</th>\n",
              "      <th>volatile acidity</th>\n",
              "      <th>citric acid</th>\n",
              "      <th>residual sugar</th>\n",
              "      <th>free sulfur dioxide</th>\n",
              "      <th>total sulfur dioxide</th>\n",
              "      <th>pH</th>\n",
              "      <th>alcohol</th>\n",
              "    </tr>\n",
              "  </thead>\n",
              "  <tbody>\n",
              "    <tr>\n",
              "      <th>0</th>\n",
              "      <td>7.4</td>\n",
              "      <td>0.700</td>\n",
              "      <td>0.00</td>\n",
              "      <td>1.9</td>\n",
              "      <td>11.0</td>\n",
              "      <td>34.0</td>\n",
              "      <td>3.51</td>\n",
              "      <td>9.4</td>\n",
              "    </tr>\n",
              "    <tr>\n",
              "      <th>1</th>\n",
              "      <td>7.8</td>\n",
              "      <td>0.880</td>\n",
              "      <td>0.00</td>\n",
              "      <td>2.6</td>\n",
              "      <td>25.0</td>\n",
              "      <td>67.0</td>\n",
              "      <td>3.20</td>\n",
              "      <td>9.8</td>\n",
              "    </tr>\n",
              "    <tr>\n",
              "      <th>2</th>\n",
              "      <td>7.8</td>\n",
              "      <td>0.760</td>\n",
              "      <td>0.04</td>\n",
              "      <td>2.3</td>\n",
              "      <td>15.0</td>\n",
              "      <td>54.0</td>\n",
              "      <td>3.26</td>\n",
              "      <td>9.8</td>\n",
              "    </tr>\n",
              "    <tr>\n",
              "      <th>3</th>\n",
              "      <td>11.2</td>\n",
              "      <td>0.280</td>\n",
              "      <td>0.56</td>\n",
              "      <td>1.9</td>\n",
              "      <td>17.0</td>\n",
              "      <td>60.0</td>\n",
              "      <td>3.16</td>\n",
              "      <td>9.8</td>\n",
              "    </tr>\n",
              "    <tr>\n",
              "      <th>4</th>\n",
              "      <td>7.4</td>\n",
              "      <td>0.700</td>\n",
              "      <td>0.00</td>\n",
              "      <td>1.9</td>\n",
              "      <td>11.0</td>\n",
              "      <td>34.0</td>\n",
              "      <td>3.51</td>\n",
              "      <td>9.4</td>\n",
              "    </tr>\n",
              "    <tr>\n",
              "      <th>...</th>\n",
              "      <td>...</td>\n",
              "      <td>...</td>\n",
              "      <td>...</td>\n",
              "      <td>...</td>\n",
              "      <td>...</td>\n",
              "      <td>...</td>\n",
              "      <td>...</td>\n",
              "      <td>...</td>\n",
              "    </tr>\n",
              "    <tr>\n",
              "      <th>1138</th>\n",
              "      <td>6.3</td>\n",
              "      <td>0.510</td>\n",
              "      <td>0.13</td>\n",
              "      <td>2.3</td>\n",
              "      <td>29.0</td>\n",
              "      <td>40.0</td>\n",
              "      <td>3.42</td>\n",
              "      <td>11.0</td>\n",
              "    </tr>\n",
              "    <tr>\n",
              "      <th>1139</th>\n",
              "      <td>6.8</td>\n",
              "      <td>0.620</td>\n",
              "      <td>0.08</td>\n",
              "      <td>1.9</td>\n",
              "      <td>28.0</td>\n",
              "      <td>38.0</td>\n",
              "      <td>3.42</td>\n",
              "      <td>9.5</td>\n",
              "    </tr>\n",
              "    <tr>\n",
              "      <th>1140</th>\n",
              "      <td>6.2</td>\n",
              "      <td>0.600</td>\n",
              "      <td>0.08</td>\n",
              "      <td>2.0</td>\n",
              "      <td>32.0</td>\n",
              "      <td>44.0</td>\n",
              "      <td>3.45</td>\n",
              "      <td>10.5</td>\n",
              "    </tr>\n",
              "    <tr>\n",
              "      <th>1141</th>\n",
              "      <td>5.9</td>\n",
              "      <td>0.550</td>\n",
              "      <td>0.10</td>\n",
              "      <td>2.2</td>\n",
              "      <td>39.0</td>\n",
              "      <td>51.0</td>\n",
              "      <td>3.52</td>\n",
              "      <td>11.2</td>\n",
              "    </tr>\n",
              "    <tr>\n",
              "      <th>1142</th>\n",
              "      <td>5.9</td>\n",
              "      <td>0.645</td>\n",
              "      <td>0.12</td>\n",
              "      <td>2.0</td>\n",
              "      <td>32.0</td>\n",
              "      <td>44.0</td>\n",
              "      <td>3.57</td>\n",
              "      <td>10.2</td>\n",
              "    </tr>\n",
              "  </tbody>\n",
              "</table>\n",
              "<p>1143 rows × 8 columns</p>\n",
              "</div>\n",
              "      <button class=\"colab-df-convert\" onclick=\"convertToInteractive('df-84ecece0-7e2a-4ac3-9149-8298ed8e480b')\"\n",
              "              title=\"Convert this dataframe to an interactive table.\"\n",
              "              style=\"display:none;\">\n",
              "        \n",
              "  <svg xmlns=\"http://www.w3.org/2000/svg\" height=\"24px\"viewBox=\"0 0 24 24\"\n",
              "       width=\"24px\">\n",
              "    <path d=\"M0 0h24v24H0V0z\" fill=\"none\"/>\n",
              "    <path d=\"M18.56 5.44l.94 2.06.94-2.06 2.06-.94-2.06-.94-.94-2.06-.94 2.06-2.06.94zm-11 1L8.5 8.5l.94-2.06 2.06-.94-2.06-.94L8.5 2.5l-.94 2.06-2.06.94zm10 10l.94 2.06.94-2.06 2.06-.94-2.06-.94-.94-2.06-.94 2.06-2.06.94z\"/><path d=\"M17.41 7.96l-1.37-1.37c-.4-.4-.92-.59-1.43-.59-.52 0-1.04.2-1.43.59L10.3 9.45l-7.72 7.72c-.78.78-.78 2.05 0 2.83L4 21.41c.39.39.9.59 1.41.59.51 0 1.02-.2 1.41-.59l7.78-7.78 2.81-2.81c.8-.78.8-2.07 0-2.86zM5.41 20L4 18.59l7.72-7.72 1.47 1.35L5.41 20z\"/>\n",
              "  </svg>\n",
              "      </button>\n",
              "      \n",
              "  <style>\n",
              "    .colab-df-container {\n",
              "      display:flex;\n",
              "      flex-wrap:wrap;\n",
              "      gap: 12px;\n",
              "    }\n",
              "\n",
              "    .colab-df-convert {\n",
              "      background-color: #E8F0FE;\n",
              "      border: none;\n",
              "      border-radius: 50%;\n",
              "      cursor: pointer;\n",
              "      display: none;\n",
              "      fill: #1967D2;\n",
              "      height: 32px;\n",
              "      padding: 0 0 0 0;\n",
              "      width: 32px;\n",
              "    }\n",
              "\n",
              "    .colab-df-convert:hover {\n",
              "      background-color: #E2EBFA;\n",
              "      box-shadow: 0px 1px 2px rgba(60, 64, 67, 0.3), 0px 1px 3px 1px rgba(60, 64, 67, 0.15);\n",
              "      fill: #174EA6;\n",
              "    }\n",
              "\n",
              "    [theme=dark] .colab-df-convert {\n",
              "      background-color: #3B4455;\n",
              "      fill: #D2E3FC;\n",
              "    }\n",
              "\n",
              "    [theme=dark] .colab-df-convert:hover {\n",
              "      background-color: #434B5C;\n",
              "      box-shadow: 0px 1px 3px 1px rgba(0, 0, 0, 0.15);\n",
              "      filter: drop-shadow(0px 1px 2px rgba(0, 0, 0, 0.3));\n",
              "      fill: #FFFFFF;\n",
              "    }\n",
              "  </style>\n",
              "\n",
              "      <script>\n",
              "        const buttonEl =\n",
              "          document.querySelector('#df-84ecece0-7e2a-4ac3-9149-8298ed8e480b button.colab-df-convert');\n",
              "        buttonEl.style.display =\n",
              "          google.colab.kernel.accessAllowed ? 'block' : 'none';\n",
              "\n",
              "        async function convertToInteractive(key) {\n",
              "          const element = document.querySelector('#df-84ecece0-7e2a-4ac3-9149-8298ed8e480b');\n",
              "          const dataTable =\n",
              "            await google.colab.kernel.invokeFunction('convertToInteractive',\n",
              "                                                     [key], {});\n",
              "          if (!dataTable) return;\n",
              "\n",
              "          const docLinkHtml = 'Like what you see? Visit the ' +\n",
              "            '<a target=\"_blank\" href=https://colab.research.google.com/notebooks/data_table.ipynb>data table notebook</a>'\n",
              "            + ' to learn more about interactive tables.';\n",
              "          element.innerHTML = '';\n",
              "          dataTable['output_type'] = 'display_data';\n",
              "          await google.colab.output.renderOutput(dataTable, element);\n",
              "          const docLink = document.createElement('div');\n",
              "          docLink.innerHTML = docLinkHtml;\n",
              "          element.appendChild(docLink);\n",
              "        }\n",
              "      </script>\n",
              "    </div>\n",
              "  </div>\n",
              "  "
            ]
          },
          "metadata": {},
          "execution_count": 7
        }
      ]
    },
    {
      "cell_type": "code",
      "source": [
        "dataset"
      ],
      "metadata": {
        "colab": {
          "base_uri": "https://localhost:8080/",
          "height": 423
        },
        "id": "O93YZzciQtgo",
        "outputId": "328e51ed-53cd-473b-b269-b5d770538915"
      },
      "execution_count": null,
      "outputs": [
        {
          "output_type": "execute_result",
          "data": {
            "text/plain": [
              "      fixed acidity  volatile acidity  citric acid  residual sugar  chlorides  \\\n",
              "0               7.4             0.700         0.00             1.9      0.076   \n",
              "1               7.8             0.880         0.00             2.6      0.098   \n",
              "2               7.8             0.760         0.04             2.3      0.092   \n",
              "3              11.2             0.280         0.56             1.9      0.075   \n",
              "4               7.4             0.700         0.00             1.9      0.076   \n",
              "...             ...               ...          ...             ...        ...   \n",
              "1138            6.3             0.510         0.13             2.3      0.076   \n",
              "1139            6.8             0.620         0.08             1.9      0.068   \n",
              "1140            6.2             0.600         0.08             2.0      0.090   \n",
              "1141            5.9             0.550         0.10             2.2      0.062   \n",
              "1142            5.9             0.645         0.12             2.0      0.075   \n",
              "\n",
              "      free sulfur dioxide  total sulfur dioxide  density    pH  sulphates  \\\n",
              "0                    11.0                  34.0  0.99780  3.51       0.56   \n",
              "1                    25.0                  67.0  0.99680  3.20       0.68   \n",
              "2                    15.0                  54.0  0.99700  3.26       0.65   \n",
              "3                    17.0                  60.0  0.99800  3.16       0.58   \n",
              "4                    11.0                  34.0  0.99780  3.51       0.56   \n",
              "...                   ...                   ...      ...   ...        ...   \n",
              "1138                 29.0                  40.0  0.99574  3.42       0.75   \n",
              "1139                 28.0                  38.0  0.99651  3.42       0.82   \n",
              "1140                 32.0                  44.0  0.99490  3.45       0.58   \n",
              "1141                 39.0                  51.0  0.99512  3.52       0.76   \n",
              "1142                 32.0                  44.0  0.99547  3.57       0.71   \n",
              "\n",
              "      alcohol  quality    Id  \n",
              "0         9.4        5     0  \n",
              "1         9.8        5     1  \n",
              "2         9.8        5     2  \n",
              "3         9.8        6     3  \n",
              "4         9.4        5     4  \n",
              "...       ...      ...   ...  \n",
              "1138     11.0        6  1592  \n",
              "1139      9.5        6  1593  \n",
              "1140     10.5        5  1594  \n",
              "1141     11.2        6  1595  \n",
              "1142     10.2        5  1597  \n",
              "\n",
              "[1143 rows x 13 columns]"
            ],
            "text/html": [
              "\n",
              "  <div id=\"df-d857e0f8-de9e-49a9-8b04-db61b2803cf0\">\n",
              "    <div class=\"colab-df-container\">\n",
              "      <div>\n",
              "<style scoped>\n",
              "    .dataframe tbody tr th:only-of-type {\n",
              "        vertical-align: middle;\n",
              "    }\n",
              "\n",
              "    .dataframe tbody tr th {\n",
              "        vertical-align: top;\n",
              "    }\n",
              "\n",
              "    .dataframe thead th {\n",
              "        text-align: right;\n",
              "    }\n",
              "</style>\n",
              "<table border=\"1\" class=\"dataframe\">\n",
              "  <thead>\n",
              "    <tr style=\"text-align: right;\">\n",
              "      <th></th>\n",
              "      <th>fixed acidity</th>\n",
              "      <th>volatile acidity</th>\n",
              "      <th>citric acid</th>\n",
              "      <th>residual sugar</th>\n",
              "      <th>chlorides</th>\n",
              "      <th>free sulfur dioxide</th>\n",
              "      <th>total sulfur dioxide</th>\n",
              "      <th>density</th>\n",
              "      <th>pH</th>\n",
              "      <th>sulphates</th>\n",
              "      <th>alcohol</th>\n",
              "      <th>quality</th>\n",
              "      <th>Id</th>\n",
              "    </tr>\n",
              "  </thead>\n",
              "  <tbody>\n",
              "    <tr>\n",
              "      <th>0</th>\n",
              "      <td>7.4</td>\n",
              "      <td>0.700</td>\n",
              "      <td>0.00</td>\n",
              "      <td>1.9</td>\n",
              "      <td>0.076</td>\n",
              "      <td>11.0</td>\n",
              "      <td>34.0</td>\n",
              "      <td>0.99780</td>\n",
              "      <td>3.51</td>\n",
              "      <td>0.56</td>\n",
              "      <td>9.4</td>\n",
              "      <td>5</td>\n",
              "      <td>0</td>\n",
              "    </tr>\n",
              "    <tr>\n",
              "      <th>1</th>\n",
              "      <td>7.8</td>\n",
              "      <td>0.880</td>\n",
              "      <td>0.00</td>\n",
              "      <td>2.6</td>\n",
              "      <td>0.098</td>\n",
              "      <td>25.0</td>\n",
              "      <td>67.0</td>\n",
              "      <td>0.99680</td>\n",
              "      <td>3.20</td>\n",
              "      <td>0.68</td>\n",
              "      <td>9.8</td>\n",
              "      <td>5</td>\n",
              "      <td>1</td>\n",
              "    </tr>\n",
              "    <tr>\n",
              "      <th>2</th>\n",
              "      <td>7.8</td>\n",
              "      <td>0.760</td>\n",
              "      <td>0.04</td>\n",
              "      <td>2.3</td>\n",
              "      <td>0.092</td>\n",
              "      <td>15.0</td>\n",
              "      <td>54.0</td>\n",
              "      <td>0.99700</td>\n",
              "      <td>3.26</td>\n",
              "      <td>0.65</td>\n",
              "      <td>9.8</td>\n",
              "      <td>5</td>\n",
              "      <td>2</td>\n",
              "    </tr>\n",
              "    <tr>\n",
              "      <th>3</th>\n",
              "      <td>11.2</td>\n",
              "      <td>0.280</td>\n",
              "      <td>0.56</td>\n",
              "      <td>1.9</td>\n",
              "      <td>0.075</td>\n",
              "      <td>17.0</td>\n",
              "      <td>60.0</td>\n",
              "      <td>0.99800</td>\n",
              "      <td>3.16</td>\n",
              "      <td>0.58</td>\n",
              "      <td>9.8</td>\n",
              "      <td>6</td>\n",
              "      <td>3</td>\n",
              "    </tr>\n",
              "    <tr>\n",
              "      <th>4</th>\n",
              "      <td>7.4</td>\n",
              "      <td>0.700</td>\n",
              "      <td>0.00</td>\n",
              "      <td>1.9</td>\n",
              "      <td>0.076</td>\n",
              "      <td>11.0</td>\n",
              "      <td>34.0</td>\n",
              "      <td>0.99780</td>\n",
              "      <td>3.51</td>\n",
              "      <td>0.56</td>\n",
              "      <td>9.4</td>\n",
              "      <td>5</td>\n",
              "      <td>4</td>\n",
              "    </tr>\n",
              "    <tr>\n",
              "      <th>...</th>\n",
              "      <td>...</td>\n",
              "      <td>...</td>\n",
              "      <td>...</td>\n",
              "      <td>...</td>\n",
              "      <td>...</td>\n",
              "      <td>...</td>\n",
              "      <td>...</td>\n",
              "      <td>...</td>\n",
              "      <td>...</td>\n",
              "      <td>...</td>\n",
              "      <td>...</td>\n",
              "      <td>...</td>\n",
              "      <td>...</td>\n",
              "    </tr>\n",
              "    <tr>\n",
              "      <th>1138</th>\n",
              "      <td>6.3</td>\n",
              "      <td>0.510</td>\n",
              "      <td>0.13</td>\n",
              "      <td>2.3</td>\n",
              "      <td>0.076</td>\n",
              "      <td>29.0</td>\n",
              "      <td>40.0</td>\n",
              "      <td>0.99574</td>\n",
              "      <td>3.42</td>\n",
              "      <td>0.75</td>\n",
              "      <td>11.0</td>\n",
              "      <td>6</td>\n",
              "      <td>1592</td>\n",
              "    </tr>\n",
              "    <tr>\n",
              "      <th>1139</th>\n",
              "      <td>6.8</td>\n",
              "      <td>0.620</td>\n",
              "      <td>0.08</td>\n",
              "      <td>1.9</td>\n",
              "      <td>0.068</td>\n",
              "      <td>28.0</td>\n",
              "      <td>38.0</td>\n",
              "      <td>0.99651</td>\n",
              "      <td>3.42</td>\n",
              "      <td>0.82</td>\n",
              "      <td>9.5</td>\n",
              "      <td>6</td>\n",
              "      <td>1593</td>\n",
              "    </tr>\n",
              "    <tr>\n",
              "      <th>1140</th>\n",
              "      <td>6.2</td>\n",
              "      <td>0.600</td>\n",
              "      <td>0.08</td>\n",
              "      <td>2.0</td>\n",
              "      <td>0.090</td>\n",
              "      <td>32.0</td>\n",
              "      <td>44.0</td>\n",
              "      <td>0.99490</td>\n",
              "      <td>3.45</td>\n",
              "      <td>0.58</td>\n",
              "      <td>10.5</td>\n",
              "      <td>5</td>\n",
              "      <td>1594</td>\n",
              "    </tr>\n",
              "    <tr>\n",
              "      <th>1141</th>\n",
              "      <td>5.9</td>\n",
              "      <td>0.550</td>\n",
              "      <td>0.10</td>\n",
              "      <td>2.2</td>\n",
              "      <td>0.062</td>\n",
              "      <td>39.0</td>\n",
              "      <td>51.0</td>\n",
              "      <td>0.99512</td>\n",
              "      <td>3.52</td>\n",
              "      <td>0.76</td>\n",
              "      <td>11.2</td>\n",
              "      <td>6</td>\n",
              "      <td>1595</td>\n",
              "    </tr>\n",
              "    <tr>\n",
              "      <th>1142</th>\n",
              "      <td>5.9</td>\n",
              "      <td>0.645</td>\n",
              "      <td>0.12</td>\n",
              "      <td>2.0</td>\n",
              "      <td>0.075</td>\n",
              "      <td>32.0</td>\n",
              "      <td>44.0</td>\n",
              "      <td>0.99547</td>\n",
              "      <td>3.57</td>\n",
              "      <td>0.71</td>\n",
              "      <td>10.2</td>\n",
              "      <td>5</td>\n",
              "      <td>1597</td>\n",
              "    </tr>\n",
              "  </tbody>\n",
              "</table>\n",
              "<p>1143 rows × 13 columns</p>\n",
              "</div>\n",
              "      <button class=\"colab-df-convert\" onclick=\"convertToInteractive('df-d857e0f8-de9e-49a9-8b04-db61b2803cf0')\"\n",
              "              title=\"Convert this dataframe to an interactive table.\"\n",
              "              style=\"display:none;\">\n",
              "        \n",
              "  <svg xmlns=\"http://www.w3.org/2000/svg\" height=\"24px\"viewBox=\"0 0 24 24\"\n",
              "       width=\"24px\">\n",
              "    <path d=\"M0 0h24v24H0V0z\" fill=\"none\"/>\n",
              "    <path d=\"M18.56 5.44l.94 2.06.94-2.06 2.06-.94-2.06-.94-.94-2.06-.94 2.06-2.06.94zm-11 1L8.5 8.5l.94-2.06 2.06-.94-2.06-.94L8.5 2.5l-.94 2.06-2.06.94zm10 10l.94 2.06.94-2.06 2.06-.94-2.06-.94-.94-2.06-.94 2.06-2.06.94z\"/><path d=\"M17.41 7.96l-1.37-1.37c-.4-.4-.92-.59-1.43-.59-.52 0-1.04.2-1.43.59L10.3 9.45l-7.72 7.72c-.78.78-.78 2.05 0 2.83L4 21.41c.39.39.9.59 1.41.59.51 0 1.02-.2 1.41-.59l7.78-7.78 2.81-2.81c.8-.78.8-2.07 0-2.86zM5.41 20L4 18.59l7.72-7.72 1.47 1.35L5.41 20z\"/>\n",
              "  </svg>\n",
              "      </button>\n",
              "      \n",
              "  <style>\n",
              "    .colab-df-container {\n",
              "      display:flex;\n",
              "      flex-wrap:wrap;\n",
              "      gap: 12px;\n",
              "    }\n",
              "\n",
              "    .colab-df-convert {\n",
              "      background-color: #E8F0FE;\n",
              "      border: none;\n",
              "      border-radius: 50%;\n",
              "      cursor: pointer;\n",
              "      display: none;\n",
              "      fill: #1967D2;\n",
              "      height: 32px;\n",
              "      padding: 0 0 0 0;\n",
              "      width: 32px;\n",
              "    }\n",
              "\n",
              "    .colab-df-convert:hover {\n",
              "      background-color: #E2EBFA;\n",
              "      box-shadow: 0px 1px 2px rgba(60, 64, 67, 0.3), 0px 1px 3px 1px rgba(60, 64, 67, 0.15);\n",
              "      fill: #174EA6;\n",
              "    }\n",
              "\n",
              "    [theme=dark] .colab-df-convert {\n",
              "      background-color: #3B4455;\n",
              "      fill: #D2E3FC;\n",
              "    }\n",
              "\n",
              "    [theme=dark] .colab-df-convert:hover {\n",
              "      background-color: #434B5C;\n",
              "      box-shadow: 0px 1px 3px 1px rgba(0, 0, 0, 0.15);\n",
              "      filter: drop-shadow(0px 1px 2px rgba(0, 0, 0, 0.3));\n",
              "      fill: #FFFFFF;\n",
              "    }\n",
              "  </style>\n",
              "\n",
              "      <script>\n",
              "        const buttonEl =\n",
              "          document.querySelector('#df-d857e0f8-de9e-49a9-8b04-db61b2803cf0 button.colab-df-convert');\n",
              "        buttonEl.style.display =\n",
              "          google.colab.kernel.accessAllowed ? 'block' : 'none';\n",
              "\n",
              "        async function convertToInteractive(key) {\n",
              "          const element = document.querySelector('#df-d857e0f8-de9e-49a9-8b04-db61b2803cf0');\n",
              "          const dataTable =\n",
              "            await google.colab.kernel.invokeFunction('convertToInteractive',\n",
              "                                                     [key], {});\n",
              "          if (!dataTable) return;\n",
              "\n",
              "          const docLinkHtml = 'Like what you see? Visit the ' +\n",
              "            '<a target=\"_blank\" href=https://colab.research.google.com/notebooks/data_table.ipynb>data table notebook</a>'\n",
              "            + ' to learn more about interactive tables.';\n",
              "          element.innerHTML = '';\n",
              "          dataTable['output_type'] = 'display_data';\n",
              "          await google.colab.output.renderOutput(dataTable, element);\n",
              "          const docLink = document.createElement('div');\n",
              "          docLink.innerHTML = docLinkHtml;\n",
              "          element.appendChild(docLink);\n",
              "        }\n",
              "      </script>\n",
              "    </div>\n",
              "  </div>\n",
              "  "
            ]
          },
          "metadata": {},
          "execution_count": 8
        }
      ]
    },
    {
      "cell_type": "markdown",
      "source": [
        "**Filling out Missing Values**"
      ],
      "metadata": {
        "id": "ZbEI-Y_iw7hy"
      }
    },
    {
      "cell_type": "code",
      "source": [
        "dataset.fillna(dataset.mean()).isna().sum()"
      ],
      "metadata": {
        "colab": {
          "base_uri": "https://localhost:8080/"
        },
        "id": "8lAJOWTNYf-J",
        "outputId": "3b9970dc-de99-40d9-88af-7b83312e051e"
      },
      "execution_count": null,
      "outputs": [
        {
          "output_type": "execute_result",
          "data": {
            "text/plain": [
              "fixed acidity           0\n",
              "volatile acidity        0\n",
              "citric acid             0\n",
              "residual sugar          0\n",
              "chlorides               0\n",
              "free sulfur dioxide     0\n",
              "total sulfur dioxide    0\n",
              "density                 0\n",
              "pH                      0\n",
              "sulphates               0\n",
              "alcohol                 0\n",
              "quality                 0\n",
              "Id                      0\n",
              "dtype: int64"
            ]
          },
          "metadata": {},
          "execution_count": 15
        }
      ]
    },
    {
      "cell_type": "markdown",
      "source": [
        "**Checking if dataset is balanced then apply oversampling and undersampling in order to balance Dataset**"
      ],
      "metadata": {
        "id": "1fepJbtd57fv"
      }
    },
    {
      "cell_type": "code",
      "source": [
        "dataset.shape"
      ],
      "metadata": {
        "colab": {
          "base_uri": "https://localhost:8080/"
        },
        "id": "MjUtCv3D593N",
        "outputId": "6ed426dc-07ad-44ef-fce4-43457294cbc0"
      },
      "execution_count": null,
      "outputs": [
        {
          "output_type": "execute_result",
          "data": {
            "text/plain": [
              "(1143, 13)"
            ]
          },
          "metadata": {},
          "execution_count": 10
        }
      ]
    },
    {
      "cell_type": "code",
      "source": [
        "print(sorted(Counter(dataset['quality']).items()))"
      ],
      "metadata": {
        "colab": {
          "base_uri": "https://localhost:8080/"
        },
        "id": "dfjz9zJK6AVG",
        "outputId": "059b399d-1617-473f-a8ba-7f2920dd563b"
      },
      "execution_count": null,
      "outputs": [
        {
          "output_type": "stream",
          "name": "stdout",
          "text": [
            "[(3, 6), (4, 33), (5, 483), (6, 462), (7, 143), (8, 16)]\n"
          ]
        }
      ]
    },
    {
      "cell_type": "code",
      "source": [
        "water_potable = dataset[dataset['quality']==1]\n",
        "water_nonpotable = dataset[dataset['quality']==0]"
      ],
      "metadata": {
        "id": "UbHpJ6yS7NVM"
      },
      "execution_count": null,
      "outputs": []
    },
    {
      "cell_type": "code",
      "source": [
        "X = dataset\n",
        "Y= dataset['quality']"
      ],
      "metadata": {
        "id": "TDYTIxDL7R2m"
      },
      "execution_count": null,
      "outputs": []
    },
    {
      "cell_type": "code",
      "source": [
        "X.drop('Id', axis =1, inplace=True)\n",
        "X.columns"
      ],
      "metadata": {
        "colab": {
          "base_uri": "https://localhost:8080/"
        },
        "id": "lfztibgo7WKz",
        "outputId": "3b5c603b-2f75-4862-f69f-8957724eb578"
      },
      "execution_count": null,
      "outputs": [
        {
          "output_type": "execute_result",
          "data": {
            "text/plain": [
              "Index(['fixed acidity', 'volatile acidity', 'citric acid', 'residual sugar',\n",
              "       'chlorides', 'free sulfur dioxide', 'total sulfur dioxide', 'density',\n",
              "       'pH', 'sulphates', 'alcohol', 'quality'],\n",
              "      dtype='object')"
            ]
          },
          "metadata": {},
          "execution_count": 20
        }
      ]
    },
    {
      "cell_type": "code",
      "source": [
        "X.drop('quality',axis=1,inplace=True)"
      ],
      "metadata": {
        "id": "TO7AC8S-7d09"
      },
      "execution_count": null,
      "outputs": []
    },
    {
      "cell_type": "code",
      "source": [
        "!pip install imblearn"
      ],
      "metadata": {
        "colab": {
          "base_uri": "https://localhost:8080/"
        },
        "id": "WyMEeINF7hso",
        "outputId": "64b52670-d9a1-4284-a72d-99d4e1e54877"
      },
      "execution_count": null,
      "outputs": [
        {
          "output_type": "stream",
          "name": "stdout",
          "text": [
            "Looking in indexes: https://pypi.org/simple, https://us-python.pkg.dev/colab-wheels/public/simple/\n",
            "Requirement already satisfied: imblearn in /usr/local/lib/python3.8/dist-packages (0.0)\n",
            "Requirement already satisfied: imbalanced-learn in /usr/local/lib/python3.8/dist-packages (from imblearn) (0.8.1)\n",
            "Requirement already satisfied: joblib>=0.11 in /usr/local/lib/python3.8/dist-packages (from imbalanced-learn->imblearn) (1.2.0)\n",
            "Requirement already satisfied: numpy>=1.13.3 in /usr/local/lib/python3.8/dist-packages (from imbalanced-learn->imblearn) (1.21.6)\n",
            "Requirement already satisfied: scipy>=0.19.1 in /usr/local/lib/python3.8/dist-packages (from imbalanced-learn->imblearn) (1.7.3)\n",
            "Requirement already satisfied: scikit-learn>=0.24 in /usr/local/lib/python3.8/dist-packages (from imbalanced-learn->imblearn) (1.0.2)\n",
            "Requirement already satisfied: threadpoolctl>=2.0.0 in /usr/local/lib/python3.8/dist-packages (from scikit-learn>=0.24->imbalanced-learn->imblearn) (3.1.0)\n"
          ]
        }
      ]
    },
    {
      "cell_type": "code",
      "source": [
        "from imblearn import under_sampling, over_sampling"
      ],
      "metadata": {
        "id": "zwVB2Vsb7k8_"
      },
      "execution_count": null,
      "outputs": []
    },
    {
      "cell_type": "code",
      "source": [
        "from imblearn.over_sampling import RandomOverSampler\n",
        "ros = RandomOverSampler(random_state=1)\n",
        "X_resampled, y_resampled = ros.fit_resample(X,Y)\n",
        "print(sorted(Counter(y_resampled).items()),y_resampled.shape)"
      ],
      "metadata": {
        "colab": {
          "base_uri": "https://localhost:8080/"
        },
        "id": "IJgxYc1n7pQu",
        "outputId": "7a1fb7e6-18ef-4901-9a18-c111acbe07ea"
      },
      "execution_count": null,
      "outputs": [
        {
          "output_type": "stream",
          "name": "stdout",
          "text": [
            "[(3, 483), (4, 483), (5, 483), (6, 483), (7, 483), (8, 483)] (2898,)\n"
          ]
        }
      ]
    },
    {
      "cell_type": "code",
      "source": [
        "from imblearn.under_sampling import RandomUnderSampler\n",
        "rus = RandomUnderSampler(random_state=1)\n",
        "X_resampled, y_resampled = rus.fit_resample(X,Y)\n",
        "print(sorted(Counter(y_resampled).items()),y_resampled.shape)"
      ],
      "metadata": {
        "colab": {
          "base_uri": "https://localhost:8080/"
        },
        "id": "f6bMXXJS7r9L",
        "outputId": "eda05d48-a398-4124-f44a-088a992ff490"
      },
      "execution_count": null,
      "outputs": [
        {
          "output_type": "stream",
          "name": "stdout",
          "text": [
            "[(3, 6), (4, 6), (5, 6), (6, 6), (7, 6), (8, 6)] (36,)\n"
          ]
        }
      ]
    },
    {
      "cell_type": "code",
      "source": [
        "from sklearn.preprocessing import StandardScaler "
      ],
      "metadata": {
        "id": "vmZ37E1j7uSN"
      },
      "execution_count": null,
      "outputs": []
    },
    {
      "cell_type": "code",
      "source": [
        "X = X_resampled\n",
        "Y = y_resampled"
      ],
      "metadata": {
        "id": "M-Nz2_PZ7wGl"
      },
      "execution_count": null,
      "outputs": []
    },
    {
      "cell_type": "code",
      "source": [
        "X"
      ],
      "metadata": {
        "colab": {
          "base_uri": "https://localhost:8080/",
          "height": 1000
        },
        "id": "rcPYtx4o7x2v",
        "outputId": "be209d76-b9ec-443f-a2a0-b0b84ddd5269"
      },
      "execution_count": null,
      "outputs": [
        {
          "output_type": "execute_result",
          "data": {
            "text/plain": [
              "    fixed acidity  volatile acidity  citric acid  residual sugar  chlorides  \\\n",
              "0            11.6             0.580         0.66             2.2      0.074   \n",
              "1            10.4             0.610         0.49             2.1      0.200   \n",
              "2             7.6             1.580         0.00             2.1      0.137   \n",
              "3             7.3             0.980         0.05             2.1      0.061   \n",
              "4             7.1             0.875         0.05             5.7      0.082   \n",
              "5             6.7             0.760         0.02             1.8      0.078   \n",
              "6            10.1             0.935         0.22             3.4      0.105   \n",
              "7             7.5             0.685         0.07             2.5      0.058   \n",
              "8             8.3             0.625         0.20             1.5      0.080   \n",
              "9             6.3             1.020         0.00             2.0      0.083   \n",
              "10            6.7             1.040         0.08             2.3      0.067   \n",
              "11            6.5             0.670         0.00             4.3      0.057   \n",
              "12            8.4             0.590         0.29             2.6      0.109   \n",
              "13            7.1             0.520         0.03             2.6      0.076   \n",
              "14            9.9             0.570         0.25             2.0      0.104   \n",
              "15            7.1             0.560         0.14             1.6      0.078   \n",
              "16            9.0             0.690         0.00             2.4      0.088   \n",
              "17            6.3             0.390         0.08             1.7      0.066   \n",
              "18            8.4             0.340         0.42             2.1      0.072   \n",
              "19            7.8             0.340         0.37             2.0      0.082   \n",
              "20           10.2             0.290         0.65             2.4      0.075   \n",
              "21            6.7             0.620         0.21             1.9      0.079   \n",
              "22           13.7             0.415         0.68             2.9      0.085   \n",
              "23            5.2             0.340         0.00             1.8      0.050   \n",
              "24           12.8             0.615         0.66             5.8      0.083   \n",
              "25            6.4             0.570         0.12             2.3      0.120   \n",
              "26            4.9             0.420         0.00             2.1      0.048   \n",
              "27           10.4             0.330         0.63             2.8      0.084   \n",
              "28           10.5             0.510         0.64             2.4      0.107   \n",
              "29            7.9             0.340         0.36             1.9      0.065   \n",
              "30            5.0             0.420         0.24             2.0      0.060   \n",
              "31            8.6             0.420         0.39             1.8      0.068   \n",
              "32            7.9             0.350         0.46             3.6      0.078   \n",
              "33           12.6             0.310         0.72             2.2      0.072   \n",
              "34            7.2             0.380         0.31             2.0      0.056   \n",
              "35            9.1             0.400         0.50             1.8      0.071   \n",
              "\n",
              "    free sulfur dioxide  total sulfur dioxide  density    pH  sulphates  \\\n",
              "0                  10.0                  47.0  1.00080  3.25       0.57   \n",
              "1                   5.0                  16.0  0.99940  3.16       0.63   \n",
              "2                   5.0                   9.0  0.99476  3.50       0.40   \n",
              "3                  20.0                  49.0  0.99705  3.31       0.55   \n",
              "4                   3.0                  14.0  0.99808  3.40       0.52   \n",
              "5                   6.0                  12.0  0.99600  3.55       0.63   \n",
              "6                  11.0                  86.0  1.00100  3.43       0.64   \n",
              "7                   5.0                   9.0  0.99632  3.38       0.55   \n",
              "8                  27.0                 119.0  0.99720  3.16       1.12   \n",
              "9                  17.0                  24.0  0.99437  3.59       0.55   \n",
              "10                 19.0                  32.0  0.99648  3.52       0.57   \n",
              "11                 11.0                  20.0  0.99488  3.45       0.56   \n",
              "12                 31.0                 119.0  0.99801  3.15       0.50   \n",
              "13                 21.0                  92.0  0.99745  3.50       0.60   \n",
              "14                 12.0                  89.0  0.99630  3.04       0.90   \n",
              "15                  7.0                  18.0  0.99592  3.27       0.62   \n",
              "16                 19.0                  38.0  0.99900  3.35       0.60   \n",
              "17                  3.0                  20.0  0.99540  3.34       0.58   \n",
              "18                 23.0                  36.0  0.99392  3.11       0.78   \n",
              "19                 24.0                  58.0  0.99640  3.34       0.59   \n",
              "20                  6.0                  17.0  0.99565  3.22       0.63   \n",
              "21                  8.0                  62.0  0.99700  3.52       0.58   \n",
              "22                 17.0                  43.0  1.00140  3.06       0.80   \n",
              "23                 27.0                  63.0  0.99160  3.68       0.79   \n",
              "24                  7.0                  42.0  1.00220  3.07       0.73   \n",
              "25                 25.0                  36.0  0.99519  3.47       0.71   \n",
              "26                 16.0                  42.0  0.99154  3.71       0.74   \n",
              "27                  5.0                  22.0  0.99980  3.26       0.74   \n",
              "28                  6.0                  15.0  0.99730  3.09       0.66   \n",
              "29                  5.0                  10.0  0.99419  3.27       0.54   \n",
              "30                 19.0                  50.0  0.99170  3.72       0.74   \n",
              "31                  6.0                  12.0  0.99516  3.35       0.69   \n",
              "32                 15.0                  37.0  0.99730  3.35       0.86   \n",
              "33                  6.0                  29.0  0.99870  2.88       0.82   \n",
              "34                 15.0                  29.0  0.99472  3.23       0.76   \n",
              "35                  7.0                  16.0  0.99462  3.21       0.69   \n",
              "\n",
              "    alcohol  \n",
              "0      9.00  \n",
              "1      8.40  \n",
              "2     10.90  \n",
              "3      9.70  \n",
              "4     10.20  \n",
              "5      9.95  \n",
              "6     11.30  \n",
              "7     10.90  \n",
              "8      9.10  \n",
              "9     11.20  \n",
              "10    11.00  \n",
              "11    11.80  \n",
              "12     9.10  \n",
              "13     9.80  \n",
              "14    10.10  \n",
              "15     9.30  \n",
              "16     9.30  \n",
              "17     9.40  \n",
              "18    12.40  \n",
              "19     9.40  \n",
              "20    11.80  \n",
              "21     9.30  \n",
              "22    10.00  \n",
              "23    14.00  \n",
              "24    10.00  \n",
              "25    11.30  \n",
              "26    14.00  \n",
              "27    11.20  \n",
              "28    11.80  \n",
              "29    11.20  \n",
              "30    14.00  \n",
              "31    11.70  \n",
              "32    12.80  \n",
              "33     9.80  \n",
              "34    11.30  \n",
              "35    12.50  "
            ],
            "text/html": [
              "\n",
              "  <div id=\"df-d27af4d5-6ce3-44c2-8b27-6dd15ae846a2\">\n",
              "    <div class=\"colab-df-container\">\n",
              "      <div>\n",
              "<style scoped>\n",
              "    .dataframe tbody tr th:only-of-type {\n",
              "        vertical-align: middle;\n",
              "    }\n",
              "\n",
              "    .dataframe tbody tr th {\n",
              "        vertical-align: top;\n",
              "    }\n",
              "\n",
              "    .dataframe thead th {\n",
              "        text-align: right;\n",
              "    }\n",
              "</style>\n",
              "<table border=\"1\" class=\"dataframe\">\n",
              "  <thead>\n",
              "    <tr style=\"text-align: right;\">\n",
              "      <th></th>\n",
              "      <th>fixed acidity</th>\n",
              "      <th>volatile acidity</th>\n",
              "      <th>citric acid</th>\n",
              "      <th>residual sugar</th>\n",
              "      <th>chlorides</th>\n",
              "      <th>free sulfur dioxide</th>\n",
              "      <th>total sulfur dioxide</th>\n",
              "      <th>density</th>\n",
              "      <th>pH</th>\n",
              "      <th>sulphates</th>\n",
              "      <th>alcohol</th>\n",
              "    </tr>\n",
              "  </thead>\n",
              "  <tbody>\n",
              "    <tr>\n",
              "      <th>0</th>\n",
              "      <td>11.6</td>\n",
              "      <td>0.580</td>\n",
              "      <td>0.66</td>\n",
              "      <td>2.2</td>\n",
              "      <td>0.074</td>\n",
              "      <td>10.0</td>\n",
              "      <td>47.0</td>\n",
              "      <td>1.00080</td>\n",
              "      <td>3.25</td>\n",
              "      <td>0.57</td>\n",
              "      <td>9.00</td>\n",
              "    </tr>\n",
              "    <tr>\n",
              "      <th>1</th>\n",
              "      <td>10.4</td>\n",
              "      <td>0.610</td>\n",
              "      <td>0.49</td>\n",
              "      <td>2.1</td>\n",
              "      <td>0.200</td>\n",
              "      <td>5.0</td>\n",
              "      <td>16.0</td>\n",
              "      <td>0.99940</td>\n",
              "      <td>3.16</td>\n",
              "      <td>0.63</td>\n",
              "      <td>8.40</td>\n",
              "    </tr>\n",
              "    <tr>\n",
              "      <th>2</th>\n",
              "      <td>7.6</td>\n",
              "      <td>1.580</td>\n",
              "      <td>0.00</td>\n",
              "      <td>2.1</td>\n",
              "      <td>0.137</td>\n",
              "      <td>5.0</td>\n",
              "      <td>9.0</td>\n",
              "      <td>0.99476</td>\n",
              "      <td>3.50</td>\n",
              "      <td>0.40</td>\n",
              "      <td>10.90</td>\n",
              "    </tr>\n",
              "    <tr>\n",
              "      <th>3</th>\n",
              "      <td>7.3</td>\n",
              "      <td>0.980</td>\n",
              "      <td>0.05</td>\n",
              "      <td>2.1</td>\n",
              "      <td>0.061</td>\n",
              "      <td>20.0</td>\n",
              "      <td>49.0</td>\n",
              "      <td>0.99705</td>\n",
              "      <td>3.31</td>\n",
              "      <td>0.55</td>\n",
              "      <td>9.70</td>\n",
              "    </tr>\n",
              "    <tr>\n",
              "      <th>4</th>\n",
              "      <td>7.1</td>\n",
              "      <td>0.875</td>\n",
              "      <td>0.05</td>\n",
              "      <td>5.7</td>\n",
              "      <td>0.082</td>\n",
              "      <td>3.0</td>\n",
              "      <td>14.0</td>\n",
              "      <td>0.99808</td>\n",
              "      <td>3.40</td>\n",
              "      <td>0.52</td>\n",
              "      <td>10.20</td>\n",
              "    </tr>\n",
              "    <tr>\n",
              "      <th>5</th>\n",
              "      <td>6.7</td>\n",
              "      <td>0.760</td>\n",
              "      <td>0.02</td>\n",
              "      <td>1.8</td>\n",
              "      <td>0.078</td>\n",
              "      <td>6.0</td>\n",
              "      <td>12.0</td>\n",
              "      <td>0.99600</td>\n",
              "      <td>3.55</td>\n",
              "      <td>0.63</td>\n",
              "      <td>9.95</td>\n",
              "    </tr>\n",
              "    <tr>\n",
              "      <th>6</th>\n",
              "      <td>10.1</td>\n",
              "      <td>0.935</td>\n",
              "      <td>0.22</td>\n",
              "      <td>3.4</td>\n",
              "      <td>0.105</td>\n",
              "      <td>11.0</td>\n",
              "      <td>86.0</td>\n",
              "      <td>1.00100</td>\n",
              "      <td>3.43</td>\n",
              "      <td>0.64</td>\n",
              "      <td>11.30</td>\n",
              "    </tr>\n",
              "    <tr>\n",
              "      <th>7</th>\n",
              "      <td>7.5</td>\n",
              "      <td>0.685</td>\n",
              "      <td>0.07</td>\n",
              "      <td>2.5</td>\n",
              "      <td>0.058</td>\n",
              "      <td>5.0</td>\n",
              "      <td>9.0</td>\n",
              "      <td>0.99632</td>\n",
              "      <td>3.38</td>\n",
              "      <td>0.55</td>\n",
              "      <td>10.90</td>\n",
              "    </tr>\n",
              "    <tr>\n",
              "      <th>8</th>\n",
              "      <td>8.3</td>\n",
              "      <td>0.625</td>\n",
              "      <td>0.20</td>\n",
              "      <td>1.5</td>\n",
              "      <td>0.080</td>\n",
              "      <td>27.0</td>\n",
              "      <td>119.0</td>\n",
              "      <td>0.99720</td>\n",
              "      <td>3.16</td>\n",
              "      <td>1.12</td>\n",
              "      <td>9.10</td>\n",
              "    </tr>\n",
              "    <tr>\n",
              "      <th>9</th>\n",
              "      <td>6.3</td>\n",
              "      <td>1.020</td>\n",
              "      <td>0.00</td>\n",
              "      <td>2.0</td>\n",
              "      <td>0.083</td>\n",
              "      <td>17.0</td>\n",
              "      <td>24.0</td>\n",
              "      <td>0.99437</td>\n",
              "      <td>3.59</td>\n",
              "      <td>0.55</td>\n",
              "      <td>11.20</td>\n",
              "    </tr>\n",
              "    <tr>\n",
              "      <th>10</th>\n",
              "      <td>6.7</td>\n",
              "      <td>1.040</td>\n",
              "      <td>0.08</td>\n",
              "      <td>2.3</td>\n",
              "      <td>0.067</td>\n",
              "      <td>19.0</td>\n",
              "      <td>32.0</td>\n",
              "      <td>0.99648</td>\n",
              "      <td>3.52</td>\n",
              "      <td>0.57</td>\n",
              "      <td>11.00</td>\n",
              "    </tr>\n",
              "    <tr>\n",
              "      <th>11</th>\n",
              "      <td>6.5</td>\n",
              "      <td>0.670</td>\n",
              "      <td>0.00</td>\n",
              "      <td>4.3</td>\n",
              "      <td>0.057</td>\n",
              "      <td>11.0</td>\n",
              "      <td>20.0</td>\n",
              "      <td>0.99488</td>\n",
              "      <td>3.45</td>\n",
              "      <td>0.56</td>\n",
              "      <td>11.80</td>\n",
              "    </tr>\n",
              "    <tr>\n",
              "      <th>12</th>\n",
              "      <td>8.4</td>\n",
              "      <td>0.590</td>\n",
              "      <td>0.29</td>\n",
              "      <td>2.6</td>\n",
              "      <td>0.109</td>\n",
              "      <td>31.0</td>\n",
              "      <td>119.0</td>\n",
              "      <td>0.99801</td>\n",
              "      <td>3.15</td>\n",
              "      <td>0.50</td>\n",
              "      <td>9.10</td>\n",
              "    </tr>\n",
              "    <tr>\n",
              "      <th>13</th>\n",
              "      <td>7.1</td>\n",
              "      <td>0.520</td>\n",
              "      <td>0.03</td>\n",
              "      <td>2.6</td>\n",
              "      <td>0.076</td>\n",
              "      <td>21.0</td>\n",
              "      <td>92.0</td>\n",
              "      <td>0.99745</td>\n",
              "      <td>3.50</td>\n",
              "      <td>0.60</td>\n",
              "      <td>9.80</td>\n",
              "    </tr>\n",
              "    <tr>\n",
              "      <th>14</th>\n",
              "      <td>9.9</td>\n",
              "      <td>0.570</td>\n",
              "      <td>0.25</td>\n",
              "      <td>2.0</td>\n",
              "      <td>0.104</td>\n",
              "      <td>12.0</td>\n",
              "      <td>89.0</td>\n",
              "      <td>0.99630</td>\n",
              "      <td>3.04</td>\n",
              "      <td>0.90</td>\n",
              "      <td>10.10</td>\n",
              "    </tr>\n",
              "    <tr>\n",
              "      <th>15</th>\n",
              "      <td>7.1</td>\n",
              "      <td>0.560</td>\n",
              "      <td>0.14</td>\n",
              "      <td>1.6</td>\n",
              "      <td>0.078</td>\n",
              "      <td>7.0</td>\n",
              "      <td>18.0</td>\n",
              "      <td>0.99592</td>\n",
              "      <td>3.27</td>\n",
              "      <td>0.62</td>\n",
              "      <td>9.30</td>\n",
              "    </tr>\n",
              "    <tr>\n",
              "      <th>16</th>\n",
              "      <td>9.0</td>\n",
              "      <td>0.690</td>\n",
              "      <td>0.00</td>\n",
              "      <td>2.4</td>\n",
              "      <td>0.088</td>\n",
              "      <td>19.0</td>\n",
              "      <td>38.0</td>\n",
              "      <td>0.99900</td>\n",
              "      <td>3.35</td>\n",
              "      <td>0.60</td>\n",
              "      <td>9.30</td>\n",
              "    </tr>\n",
              "    <tr>\n",
              "      <th>17</th>\n",
              "      <td>6.3</td>\n",
              "      <td>0.390</td>\n",
              "      <td>0.08</td>\n",
              "      <td>1.7</td>\n",
              "      <td>0.066</td>\n",
              "      <td>3.0</td>\n",
              "      <td>20.0</td>\n",
              "      <td>0.99540</td>\n",
              "      <td>3.34</td>\n",
              "      <td>0.58</td>\n",
              "      <td>9.40</td>\n",
              "    </tr>\n",
              "    <tr>\n",
              "      <th>18</th>\n",
              "      <td>8.4</td>\n",
              "      <td>0.340</td>\n",
              "      <td>0.42</td>\n",
              "      <td>2.1</td>\n",
              "      <td>0.072</td>\n",
              "      <td>23.0</td>\n",
              "      <td>36.0</td>\n",
              "      <td>0.99392</td>\n",
              "      <td>3.11</td>\n",
              "      <td>0.78</td>\n",
              "      <td>12.40</td>\n",
              "    </tr>\n",
              "    <tr>\n",
              "      <th>19</th>\n",
              "      <td>7.8</td>\n",
              "      <td>0.340</td>\n",
              "      <td>0.37</td>\n",
              "      <td>2.0</td>\n",
              "      <td>0.082</td>\n",
              "      <td>24.0</td>\n",
              "      <td>58.0</td>\n",
              "      <td>0.99640</td>\n",
              "      <td>3.34</td>\n",
              "      <td>0.59</td>\n",
              "      <td>9.40</td>\n",
              "    </tr>\n",
              "    <tr>\n",
              "      <th>20</th>\n",
              "      <td>10.2</td>\n",
              "      <td>0.290</td>\n",
              "      <td>0.65</td>\n",
              "      <td>2.4</td>\n",
              "      <td>0.075</td>\n",
              "      <td>6.0</td>\n",
              "      <td>17.0</td>\n",
              "      <td>0.99565</td>\n",
              "      <td>3.22</td>\n",
              "      <td>0.63</td>\n",
              "      <td>11.80</td>\n",
              "    </tr>\n",
              "    <tr>\n",
              "      <th>21</th>\n",
              "      <td>6.7</td>\n",
              "      <td>0.620</td>\n",
              "      <td>0.21</td>\n",
              "      <td>1.9</td>\n",
              "      <td>0.079</td>\n",
              "      <td>8.0</td>\n",
              "      <td>62.0</td>\n",
              "      <td>0.99700</td>\n",
              "      <td>3.52</td>\n",
              "      <td>0.58</td>\n",
              "      <td>9.30</td>\n",
              "    </tr>\n",
              "    <tr>\n",
              "      <th>22</th>\n",
              "      <td>13.7</td>\n",
              "      <td>0.415</td>\n",
              "      <td>0.68</td>\n",
              "      <td>2.9</td>\n",
              "      <td>0.085</td>\n",
              "      <td>17.0</td>\n",
              "      <td>43.0</td>\n",
              "      <td>1.00140</td>\n",
              "      <td>3.06</td>\n",
              "      <td>0.80</td>\n",
              "      <td>10.00</td>\n",
              "    </tr>\n",
              "    <tr>\n",
              "      <th>23</th>\n",
              "      <td>5.2</td>\n",
              "      <td>0.340</td>\n",
              "      <td>0.00</td>\n",
              "      <td>1.8</td>\n",
              "      <td>0.050</td>\n",
              "      <td>27.0</td>\n",
              "      <td>63.0</td>\n",
              "      <td>0.99160</td>\n",
              "      <td>3.68</td>\n",
              "      <td>0.79</td>\n",
              "      <td>14.00</td>\n",
              "    </tr>\n",
              "    <tr>\n",
              "      <th>24</th>\n",
              "      <td>12.8</td>\n",
              "      <td>0.615</td>\n",
              "      <td>0.66</td>\n",
              "      <td>5.8</td>\n",
              "      <td>0.083</td>\n",
              "      <td>7.0</td>\n",
              "      <td>42.0</td>\n",
              "      <td>1.00220</td>\n",
              "      <td>3.07</td>\n",
              "      <td>0.73</td>\n",
              "      <td>10.00</td>\n",
              "    </tr>\n",
              "    <tr>\n",
              "      <th>25</th>\n",
              "      <td>6.4</td>\n",
              "      <td>0.570</td>\n",
              "      <td>0.12</td>\n",
              "      <td>2.3</td>\n",
              "      <td>0.120</td>\n",
              "      <td>25.0</td>\n",
              "      <td>36.0</td>\n",
              "      <td>0.99519</td>\n",
              "      <td>3.47</td>\n",
              "      <td>0.71</td>\n",
              "      <td>11.30</td>\n",
              "    </tr>\n",
              "    <tr>\n",
              "      <th>26</th>\n",
              "      <td>4.9</td>\n",
              "      <td>0.420</td>\n",
              "      <td>0.00</td>\n",
              "      <td>2.1</td>\n",
              "      <td>0.048</td>\n",
              "      <td>16.0</td>\n",
              "      <td>42.0</td>\n",
              "      <td>0.99154</td>\n",
              "      <td>3.71</td>\n",
              "      <td>0.74</td>\n",
              "      <td>14.00</td>\n",
              "    </tr>\n",
              "    <tr>\n",
              "      <th>27</th>\n",
              "      <td>10.4</td>\n",
              "      <td>0.330</td>\n",
              "      <td>0.63</td>\n",
              "      <td>2.8</td>\n",
              "      <td>0.084</td>\n",
              "      <td>5.0</td>\n",
              "      <td>22.0</td>\n",
              "      <td>0.99980</td>\n",
              "      <td>3.26</td>\n",
              "      <td>0.74</td>\n",
              "      <td>11.20</td>\n",
              "    </tr>\n",
              "    <tr>\n",
              "      <th>28</th>\n",
              "      <td>10.5</td>\n",
              "      <td>0.510</td>\n",
              "      <td>0.64</td>\n",
              "      <td>2.4</td>\n",
              "      <td>0.107</td>\n",
              "      <td>6.0</td>\n",
              "      <td>15.0</td>\n",
              "      <td>0.99730</td>\n",
              "      <td>3.09</td>\n",
              "      <td>0.66</td>\n",
              "      <td>11.80</td>\n",
              "    </tr>\n",
              "    <tr>\n",
              "      <th>29</th>\n",
              "      <td>7.9</td>\n",
              "      <td>0.340</td>\n",
              "      <td>0.36</td>\n",
              "      <td>1.9</td>\n",
              "      <td>0.065</td>\n",
              "      <td>5.0</td>\n",
              "      <td>10.0</td>\n",
              "      <td>0.99419</td>\n",
              "      <td>3.27</td>\n",
              "      <td>0.54</td>\n",
              "      <td>11.20</td>\n",
              "    </tr>\n",
              "    <tr>\n",
              "      <th>30</th>\n",
              "      <td>5.0</td>\n",
              "      <td>0.420</td>\n",
              "      <td>0.24</td>\n",
              "      <td>2.0</td>\n",
              "      <td>0.060</td>\n",
              "      <td>19.0</td>\n",
              "      <td>50.0</td>\n",
              "      <td>0.99170</td>\n",
              "      <td>3.72</td>\n",
              "      <td>0.74</td>\n",
              "      <td>14.00</td>\n",
              "    </tr>\n",
              "    <tr>\n",
              "      <th>31</th>\n",
              "      <td>8.6</td>\n",
              "      <td>0.420</td>\n",
              "      <td>0.39</td>\n",
              "      <td>1.8</td>\n",
              "      <td>0.068</td>\n",
              "      <td>6.0</td>\n",
              "      <td>12.0</td>\n",
              "      <td>0.99516</td>\n",
              "      <td>3.35</td>\n",
              "      <td>0.69</td>\n",
              "      <td>11.70</td>\n",
              "    </tr>\n",
              "    <tr>\n",
              "      <th>32</th>\n",
              "      <td>7.9</td>\n",
              "      <td>0.350</td>\n",
              "      <td>0.46</td>\n",
              "      <td>3.6</td>\n",
              "      <td>0.078</td>\n",
              "      <td>15.0</td>\n",
              "      <td>37.0</td>\n",
              "      <td>0.99730</td>\n",
              "      <td>3.35</td>\n",
              "      <td>0.86</td>\n",
              "      <td>12.80</td>\n",
              "    </tr>\n",
              "    <tr>\n",
              "      <th>33</th>\n",
              "      <td>12.6</td>\n",
              "      <td>0.310</td>\n",
              "      <td>0.72</td>\n",
              "      <td>2.2</td>\n",
              "      <td>0.072</td>\n",
              "      <td>6.0</td>\n",
              "      <td>29.0</td>\n",
              "      <td>0.99870</td>\n",
              "      <td>2.88</td>\n",
              "      <td>0.82</td>\n",
              "      <td>9.80</td>\n",
              "    </tr>\n",
              "    <tr>\n",
              "      <th>34</th>\n",
              "      <td>7.2</td>\n",
              "      <td>0.380</td>\n",
              "      <td>0.31</td>\n",
              "      <td>2.0</td>\n",
              "      <td>0.056</td>\n",
              "      <td>15.0</td>\n",
              "      <td>29.0</td>\n",
              "      <td>0.99472</td>\n",
              "      <td>3.23</td>\n",
              "      <td>0.76</td>\n",
              "      <td>11.30</td>\n",
              "    </tr>\n",
              "    <tr>\n",
              "      <th>35</th>\n",
              "      <td>9.1</td>\n",
              "      <td>0.400</td>\n",
              "      <td>0.50</td>\n",
              "      <td>1.8</td>\n",
              "      <td>0.071</td>\n",
              "      <td>7.0</td>\n",
              "      <td>16.0</td>\n",
              "      <td>0.99462</td>\n",
              "      <td>3.21</td>\n",
              "      <td>0.69</td>\n",
              "      <td>12.50</td>\n",
              "    </tr>\n",
              "  </tbody>\n",
              "</table>\n",
              "</div>\n",
              "      <button class=\"colab-df-convert\" onclick=\"convertToInteractive('df-d27af4d5-6ce3-44c2-8b27-6dd15ae846a2')\"\n",
              "              title=\"Convert this dataframe to an interactive table.\"\n",
              "              style=\"display:none;\">\n",
              "        \n",
              "  <svg xmlns=\"http://www.w3.org/2000/svg\" height=\"24px\"viewBox=\"0 0 24 24\"\n",
              "       width=\"24px\">\n",
              "    <path d=\"M0 0h24v24H0V0z\" fill=\"none\"/>\n",
              "    <path d=\"M18.56 5.44l.94 2.06.94-2.06 2.06-.94-2.06-.94-.94-2.06-.94 2.06-2.06.94zm-11 1L8.5 8.5l.94-2.06 2.06-.94-2.06-.94L8.5 2.5l-.94 2.06-2.06.94zm10 10l.94 2.06.94-2.06 2.06-.94-2.06-.94-.94-2.06-.94 2.06-2.06.94z\"/><path d=\"M17.41 7.96l-1.37-1.37c-.4-.4-.92-.59-1.43-.59-.52 0-1.04.2-1.43.59L10.3 9.45l-7.72 7.72c-.78.78-.78 2.05 0 2.83L4 21.41c.39.39.9.59 1.41.59.51 0 1.02-.2 1.41-.59l7.78-7.78 2.81-2.81c.8-.78.8-2.07 0-2.86zM5.41 20L4 18.59l7.72-7.72 1.47 1.35L5.41 20z\"/>\n",
              "  </svg>\n",
              "      </button>\n",
              "      \n",
              "  <style>\n",
              "    .colab-df-container {\n",
              "      display:flex;\n",
              "      flex-wrap:wrap;\n",
              "      gap: 12px;\n",
              "    }\n",
              "\n",
              "    .colab-df-convert {\n",
              "      background-color: #E8F0FE;\n",
              "      border: none;\n",
              "      border-radius: 50%;\n",
              "      cursor: pointer;\n",
              "      display: none;\n",
              "      fill: #1967D2;\n",
              "      height: 32px;\n",
              "      padding: 0 0 0 0;\n",
              "      width: 32px;\n",
              "    }\n",
              "\n",
              "    .colab-df-convert:hover {\n",
              "      background-color: #E2EBFA;\n",
              "      box-shadow: 0px 1px 2px rgba(60, 64, 67, 0.3), 0px 1px 3px 1px rgba(60, 64, 67, 0.15);\n",
              "      fill: #174EA6;\n",
              "    }\n",
              "\n",
              "    [theme=dark] .colab-df-convert {\n",
              "      background-color: #3B4455;\n",
              "      fill: #D2E3FC;\n",
              "    }\n",
              "\n",
              "    [theme=dark] .colab-df-convert:hover {\n",
              "      background-color: #434B5C;\n",
              "      box-shadow: 0px 1px 3px 1px rgba(0, 0, 0, 0.15);\n",
              "      filter: drop-shadow(0px 1px 2px rgba(0, 0, 0, 0.3));\n",
              "      fill: #FFFFFF;\n",
              "    }\n",
              "  </style>\n",
              "\n",
              "      <script>\n",
              "        const buttonEl =\n",
              "          document.querySelector('#df-d27af4d5-6ce3-44c2-8b27-6dd15ae846a2 button.colab-df-convert');\n",
              "        buttonEl.style.display =\n",
              "          google.colab.kernel.accessAllowed ? 'block' : 'none';\n",
              "\n",
              "        async function convertToInteractive(key) {\n",
              "          const element = document.querySelector('#df-d27af4d5-6ce3-44c2-8b27-6dd15ae846a2');\n",
              "          const dataTable =\n",
              "            await google.colab.kernel.invokeFunction('convertToInteractive',\n",
              "                                                     [key], {});\n",
              "          if (!dataTable) return;\n",
              "\n",
              "          const docLinkHtml = 'Like what you see? Visit the ' +\n",
              "            '<a target=\"_blank\" href=https://colab.research.google.com/notebooks/data_table.ipynb>data table notebook</a>'\n",
              "            + ' to learn more about interactive tables.';\n",
              "          element.innerHTML = '';\n",
              "          dataTable['output_type'] = 'display_data';\n",
              "          await google.colab.output.renderOutput(dataTable, element);\n",
              "          const docLink = document.createElement('div');\n",
              "          docLink.innerHTML = docLinkHtml;\n",
              "          element.appendChild(docLink);\n",
              "        }\n",
              "      </script>\n",
              "    </div>\n",
              "  </div>\n",
              "  "
            ]
          },
          "metadata": {},
          "execution_count": 28
        }
      ]
    },
    {
      "cell_type": "code",
      "source": [
        "Y"
      ],
      "metadata": {
        "colab": {
          "base_uri": "https://localhost:8080/"
        },
        "id": "TnXjfJGnCTpC",
        "outputId": "6c36c000-a179-4380-ae8d-4f709ff38e48"
      },
      "execution_count": null,
      "outputs": [
        {
          "output_type": "execute_result",
          "data": {
            "text/plain": [
              "0     3\n",
              "1     3\n",
              "2     3\n",
              "3     3\n",
              "4     3\n",
              "5     3\n",
              "6     4\n",
              "7     4\n",
              "8     4\n",
              "9     4\n",
              "10    4\n",
              "11    4\n",
              "12    5\n",
              "13    5\n",
              "14    5\n",
              "15    5\n",
              "16    5\n",
              "17    5\n",
              "18    6\n",
              "19    6\n",
              "20    6\n",
              "21    6\n",
              "22    6\n",
              "23    6\n",
              "24    7\n",
              "25    7\n",
              "26    7\n",
              "27    7\n",
              "28    7\n",
              "29    7\n",
              "30    8\n",
              "31    8\n",
              "32    8\n",
              "33    8\n",
              "34    8\n",
              "35    8\n",
              "Name: quality, dtype: int64"
            ]
          },
          "metadata": {},
          "execution_count": 29
        }
      ]
    },
    {
      "cell_type": "code",
      "source": [
        "X.shape, Y.shape"
      ],
      "metadata": {
        "colab": {
          "base_uri": "https://localhost:8080/"
        },
        "id": "vBnrX163CY0Q",
        "outputId": "78ee9441-9087-4c5e-d4e1-bd7775f93fd5"
      },
      "execution_count": null,
      "outputs": [
        {
          "output_type": "execute_result",
          "data": {
            "text/plain": [
              "((36, 11), (36,))"
            ]
          },
          "metadata": {},
          "execution_count": 30
        }
      ]
    },
    {
      "cell_type": "markdown",
      "source": [
        "**Applying Feature Selection**"
      ],
      "metadata": {
        "id": "LlgkPAyXxDNV"
      }
    },
    {
      "cell_type": "code",
      "source": [
        "from sklearn.feature_selection import SelectKBest\n",
        "from sklearn.feature_selection import f_classif\n",
        "from numpy import set_printoptions"
      ],
      "metadata": {
        "id": "IJh_Aex2Yigh"
      },
      "execution_count": null,
      "outputs": []
    },
    {
      "cell_type": "code",
      "source": [
        "test = SelectKBest(score_func=f_classif, k=4)\n",
        "fit = test.fit(X, Y)"
      ],
      "metadata": {
        "id": "BWZ5tyFbYlBY"
      },
      "execution_count": null,
      "outputs": []
    },
    {
      "cell_type": "code",
      "source": [
        "set_printoptions(precision=3)\n",
        "print(fit.scores_)"
      ],
      "metadata": {
        "colab": {
          "base_uri": "https://localhost:8080/"
        },
        "id": "YIZsJ-RbCvdw",
        "outputId": "91f678db-a995-4597-df1b-894935acf5b8"
      },
      "execution_count": null,
      "outputs": [
        {
          "output_type": "stream",
          "name": "stdout",
          "text": [
            "[0.244 8.617 2.829 0.565 1.48  1.18  1.704 0.53  0.397 1.792 4.03 ]\n"
          ]
        }
      ]
    },
    {
      "cell_type": "code",
      "source": [
        "features = fit.transform(X)\n",
        "# Summarize selected features\n",
        "print(features[0:5,:])"
      ],
      "metadata": {
        "colab": {
          "base_uri": "https://localhost:8080/"
        },
        "id": "4_znN5uCCxdQ",
        "outputId": "611ac9ce-972f-4729-e9fa-a1446d5f0e6d"
      },
      "execution_count": null,
      "outputs": [
        {
          "output_type": "stream",
          "name": "stdout",
          "text": [
            "[[ 0.58   0.66   0.57   9.   ]\n",
            " [ 0.61   0.49   0.63   8.4  ]\n",
            " [ 1.58   0.     0.4   10.9  ]\n",
            " [ 0.98   0.05   0.55   9.7  ]\n",
            " [ 0.875  0.05   0.52  10.2  ]]\n"
          ]
        }
      ]
    },
    {
      "cell_type": "code",
      "source": [
        "fit.get_feature_names_out()"
      ],
      "metadata": {
        "colab": {
          "base_uri": "https://localhost:8080/"
        },
        "id": "4hqlIy1tC0s4",
        "outputId": "a09755ae-b927-450e-d9b9-c0748e3bb290"
      },
      "execution_count": null,
      "outputs": [
        {
          "output_type": "execute_result",
          "data": {
            "text/plain": [
              "array(['volatile acidity', 'citric acid', 'sulphates', 'alcohol'],\n",
              "      dtype=object)"
            ]
          },
          "metadata": {},
          "execution_count": 35
        }
      ]
    },
    {
      "cell_type": "code",
      "source": [
        "print(features)"
      ],
      "metadata": {
        "colab": {
          "base_uri": "https://localhost:8080/"
        },
        "id": "rHBS66dGC3t_",
        "outputId": "4f8a6b13-3eac-431b-d5cd-4321796753d9"
      },
      "execution_count": null,
      "outputs": [
        {
          "output_type": "stream",
          "name": "stdout",
          "text": [
            "[[ 0.58   0.66   0.57   9.   ]\n",
            " [ 0.61   0.49   0.63   8.4  ]\n",
            " [ 1.58   0.     0.4   10.9  ]\n",
            " [ 0.98   0.05   0.55   9.7  ]\n",
            " [ 0.875  0.05   0.52  10.2  ]\n",
            " [ 0.76   0.02   0.63   9.95 ]\n",
            " [ 0.935  0.22   0.64  11.3  ]\n",
            " [ 0.685  0.07   0.55  10.9  ]\n",
            " [ 0.625  0.2    1.12   9.1  ]\n",
            " [ 1.02   0.     0.55  11.2  ]\n",
            " [ 1.04   0.08   0.57  11.   ]\n",
            " [ 0.67   0.     0.56  11.8  ]\n",
            " [ 0.59   0.29   0.5    9.1  ]\n",
            " [ 0.52   0.03   0.6    9.8  ]\n",
            " [ 0.57   0.25   0.9   10.1  ]\n",
            " [ 0.56   0.14   0.62   9.3  ]\n",
            " [ 0.69   0.     0.6    9.3  ]\n",
            " [ 0.39   0.08   0.58   9.4  ]\n",
            " [ 0.34   0.42   0.78  12.4  ]\n",
            " [ 0.34   0.37   0.59   9.4  ]\n",
            " [ 0.29   0.65   0.63  11.8  ]\n",
            " [ 0.62   0.21   0.58   9.3  ]\n",
            " [ 0.415  0.68   0.8   10.   ]\n",
            " [ 0.34   0.     0.79  14.   ]\n",
            " [ 0.615  0.66   0.73  10.   ]\n",
            " [ 0.57   0.12   0.71  11.3  ]\n",
            " [ 0.42   0.     0.74  14.   ]\n",
            " [ 0.33   0.63   0.74  11.2  ]\n",
            " [ 0.51   0.64   0.66  11.8  ]\n",
            " [ 0.34   0.36   0.54  11.2  ]\n",
            " [ 0.42   0.24   0.74  14.   ]\n",
            " [ 0.42   0.39   0.69  11.7  ]\n",
            " [ 0.35   0.46   0.86  12.8  ]\n",
            " [ 0.31   0.72   0.82   9.8  ]\n",
            " [ 0.38   0.31   0.76  11.3  ]\n",
            " [ 0.4    0.5    0.69  12.5  ]]\n"
          ]
        }
      ]
    },
    {
      "cell_type": "code",
      "source": [
        "X = features"
      ],
      "metadata": {
        "id": "YuX2YMc3C6kn"
      },
      "execution_count": null,
      "outputs": []
    },
    {
      "cell_type": "code",
      "source": [
        "X, Y"
      ],
      "metadata": {
        "colab": {
          "base_uri": "https://localhost:8080/"
        },
        "id": "ZfYTQodKC8RK",
        "outputId": "6a788541-51cc-45a3-de2c-1bac674833dd"
      },
      "execution_count": null,
      "outputs": [
        {
          "output_type": "execute_result",
          "data": {
            "text/plain": [
              "(array([[ 0.58 ,  0.66 ,  0.57 ,  9.   ],\n",
              "        [ 0.61 ,  0.49 ,  0.63 ,  8.4  ],\n",
              "        [ 1.58 ,  0.   ,  0.4  , 10.9  ],\n",
              "        [ 0.98 ,  0.05 ,  0.55 ,  9.7  ],\n",
              "        [ 0.875,  0.05 ,  0.52 , 10.2  ],\n",
              "        [ 0.76 ,  0.02 ,  0.63 ,  9.95 ],\n",
              "        [ 0.935,  0.22 ,  0.64 , 11.3  ],\n",
              "        [ 0.685,  0.07 ,  0.55 , 10.9  ],\n",
              "        [ 0.625,  0.2  ,  1.12 ,  9.1  ],\n",
              "        [ 1.02 ,  0.   ,  0.55 , 11.2  ],\n",
              "        [ 1.04 ,  0.08 ,  0.57 , 11.   ],\n",
              "        [ 0.67 ,  0.   ,  0.56 , 11.8  ],\n",
              "        [ 0.59 ,  0.29 ,  0.5  ,  9.1  ],\n",
              "        [ 0.52 ,  0.03 ,  0.6  ,  9.8  ],\n",
              "        [ 0.57 ,  0.25 ,  0.9  , 10.1  ],\n",
              "        [ 0.56 ,  0.14 ,  0.62 ,  9.3  ],\n",
              "        [ 0.69 ,  0.   ,  0.6  ,  9.3  ],\n",
              "        [ 0.39 ,  0.08 ,  0.58 ,  9.4  ],\n",
              "        [ 0.34 ,  0.42 ,  0.78 , 12.4  ],\n",
              "        [ 0.34 ,  0.37 ,  0.59 ,  9.4  ],\n",
              "        [ 0.29 ,  0.65 ,  0.63 , 11.8  ],\n",
              "        [ 0.62 ,  0.21 ,  0.58 ,  9.3  ],\n",
              "        [ 0.415,  0.68 ,  0.8  , 10.   ],\n",
              "        [ 0.34 ,  0.   ,  0.79 , 14.   ],\n",
              "        [ 0.615,  0.66 ,  0.73 , 10.   ],\n",
              "        [ 0.57 ,  0.12 ,  0.71 , 11.3  ],\n",
              "        [ 0.42 ,  0.   ,  0.74 , 14.   ],\n",
              "        [ 0.33 ,  0.63 ,  0.74 , 11.2  ],\n",
              "        [ 0.51 ,  0.64 ,  0.66 , 11.8  ],\n",
              "        [ 0.34 ,  0.36 ,  0.54 , 11.2  ],\n",
              "        [ 0.42 ,  0.24 ,  0.74 , 14.   ],\n",
              "        [ 0.42 ,  0.39 ,  0.69 , 11.7  ],\n",
              "        [ 0.35 ,  0.46 ,  0.86 , 12.8  ],\n",
              "        [ 0.31 ,  0.72 ,  0.82 ,  9.8  ],\n",
              "        [ 0.38 ,  0.31 ,  0.76 , 11.3  ],\n",
              "        [ 0.4  ,  0.5  ,  0.69 , 12.5  ]]), 0     3\n",
              " 1     3\n",
              " 2     3\n",
              " 3     3\n",
              " 4     3\n",
              " 5     3\n",
              " 6     4\n",
              " 7     4\n",
              " 8     4\n",
              " 9     4\n",
              " 10    4\n",
              " 11    4\n",
              " 12    5\n",
              " 13    5\n",
              " 14    5\n",
              " 15    5\n",
              " 16    5\n",
              " 17    5\n",
              " 18    6\n",
              " 19    6\n",
              " 20    6\n",
              " 21    6\n",
              " 22    6\n",
              " 23    6\n",
              " 24    7\n",
              " 25    7\n",
              " 26    7\n",
              " 27    7\n",
              " 28    7\n",
              " 29    7\n",
              " 30    8\n",
              " 31    8\n",
              " 32    8\n",
              " 33    8\n",
              " 34    8\n",
              " 35    8\n",
              " Name: quality, dtype: int64)"
            ]
          },
          "metadata": {},
          "execution_count": 38
        }
      ]
    },
    {
      "cell_type": "code",
      "source": [
        "scaler = StandardScaler()\n",
        "scaler.fit(X)"
      ],
      "metadata": {
        "colab": {
          "base_uri": "https://localhost:8080/"
        },
        "id": "0qWaaoysDCmW",
        "outputId": "b6809463-d4be-4852-eda5-3af49d1959e9"
      },
      "execution_count": null,
      "outputs": [
        {
          "output_type": "execute_result",
          "data": {
            "text/plain": [
              "StandardScaler()"
            ]
          },
          "metadata": {},
          "execution_count": 39
        }
      ]
    },
    {
      "cell_type": "code",
      "source": [
        "standardized_data = scaler.transform(X)"
      ],
      "metadata": {
        "id": "MagY3iJeDEsa"
      },
      "execution_count": null,
      "outputs": []
    },
    {
      "cell_type": "code",
      "source": [
        "X.shape"
      ],
      "metadata": {
        "colab": {
          "base_uri": "https://localhost:8080/"
        },
        "id": "vu_Gk5TrDG7g",
        "outputId": "dfd59bda-1624-4db8-dde0-92fa73ac99d8"
      },
      "execution_count": null,
      "outputs": [
        {
          "output_type": "execute_result",
          "data": {
            "text/plain": [
              "(36, 4)"
            ]
          },
          "metadata": {},
          "execution_count": 41
        }
      ]
    },
    {
      "cell_type": "code",
      "source": [
        "Y.shape"
      ],
      "metadata": {
        "colab": {
          "base_uri": "https://localhost:8080/"
        },
        "id": "OfkEJthSDI4x",
        "outputId": "7c3cab5a-9e55-4cd9-8487-524b3afc7a06"
      },
      "execution_count": null,
      "outputs": [
        {
          "output_type": "execute_result",
          "data": {
            "text/plain": [
              "(36,)"
            ]
          },
          "metadata": {},
          "execution_count": 42
        }
      ]
    },
    {
      "cell_type": "code",
      "source": [
        "X = standardized_data"
      ],
      "metadata": {
        "id": "0u3KxANPDK3P"
      },
      "execution_count": null,
      "outputs": []
    },
    {
      "cell_type": "code",
      "source": [
        "print(X)"
      ],
      "metadata": {
        "colab": {
          "base_uri": "https://localhost:8080/"
        },
        "id": "pbZjZSvGDMuj",
        "outputId": "dfdebc93-31cd-43b8-85d9-d9f3378b1cb3"
      },
      "execution_count": null,
      "outputs": [
        {
          "output_type": "stream",
          "name": "stdout",
          "text": [
            "[[-0.022  1.585 -0.711 -1.235]\n",
            " [ 0.09   0.881 -0.262 -1.646]\n",
            " [ 3.72  -1.15  -1.984  0.066]\n",
            " [ 1.475 -0.943 -0.861 -0.756]\n",
            " [ 1.082 -0.943 -1.085 -0.414]\n",
            " [ 0.652 -1.067 -0.262 -0.585]\n",
            " [ 1.307 -0.238 -0.187  0.34 ]\n",
            " [ 0.371 -0.86  -0.861  0.066]\n",
            " [ 0.147 -0.321  3.406 -1.167]\n",
            " [ 1.625 -1.15  -0.861  0.271]\n",
            " [ 1.7   -0.818 -0.711  0.134]\n",
            " [ 0.315 -1.15  -0.786  0.682]\n",
            " [ 0.016  0.052 -1.235 -1.167]\n",
            " [-0.246 -1.026 -0.487 -0.688]\n",
            " [-0.059 -0.114  1.759 -0.482]\n",
            " [-0.097 -0.57  -0.337 -1.03 ]\n",
            " [ 0.39  -1.15  -0.487 -1.03 ]\n",
            " [-0.733 -0.818 -0.636 -0.961]\n",
            " [-0.92   0.591  0.861  1.093]\n",
            " [-0.92   0.383 -0.561 -0.961]\n",
            " [-1.107  1.544 -0.262  0.682]\n",
            " [ 0.128 -0.28  -0.636 -1.03 ]\n",
            " [-0.639  1.668  1.011 -0.551]\n",
            " [-0.92  -1.15   0.936  2.188]\n",
            " [ 0.109  1.585  0.487 -0.551]\n",
            " [-0.059 -0.653  0.337  0.34 ]\n",
            " [-0.621 -1.15   0.561  2.188]\n",
            " [-0.957  1.461  0.561  0.271]\n",
            " [-0.284  1.502 -0.037  0.682]\n",
            " [-0.92   0.342 -0.936  0.271]\n",
            " [-0.621 -0.155  0.561  2.188]\n",
            " [-0.621  0.466  0.187  0.613]\n",
            " [-0.882  0.756  1.46   1.367]\n",
            " [-1.032  1.834  1.16  -0.688]\n",
            " [-0.77   0.135  0.711  0.34 ]\n",
            " [-0.695  0.922  0.187  1.161]]\n"
          ]
        }
      ]
    },
    {
      "cell_type": "code",
      "source": [
        "print(Y)"
      ],
      "metadata": {
        "colab": {
          "base_uri": "https://localhost:8080/"
        },
        "id": "iojPSV2zDOpe",
        "outputId": "1f848463-0db1-450f-8aed-782f444059a7"
      },
      "execution_count": null,
      "outputs": [
        {
          "output_type": "stream",
          "name": "stdout",
          "text": [
            "0     3\n",
            "1     3\n",
            "2     3\n",
            "3     3\n",
            "4     3\n",
            "5     3\n",
            "6     4\n",
            "7     4\n",
            "8     4\n",
            "9     4\n",
            "10    4\n",
            "11    4\n",
            "12    5\n",
            "13    5\n",
            "14    5\n",
            "15    5\n",
            "16    5\n",
            "17    5\n",
            "18    6\n",
            "19    6\n",
            "20    6\n",
            "21    6\n",
            "22    6\n",
            "23    6\n",
            "24    7\n",
            "25    7\n",
            "26    7\n",
            "27    7\n",
            "28    7\n",
            "29    7\n",
            "30    8\n",
            "31    8\n",
            "32    8\n",
            "33    8\n",
            "34    8\n",
            "35    8\n",
            "Name: quality, dtype: int64\n"
          ]
        }
      ]
    },
    {
      "cell_type": "markdown",
      "source": [
        "**Applying Data Mining**"
      ],
      "metadata": {
        "id": "_MLBoBtSDRT0"
      }
    },
    {
      "cell_type": "code",
      "source": [
        "from sklearn.model_selection import train_test_split\n",
        "from sklearn.preprocessing import StandardScaler\n",
        "from sklearn.datasets import make_classification\n",
        "from sklearn.pipeline import make_pipeline\n",
        "from sklearn.linear_model import LogisticRegression\n",
        "from sklearn.pipeline import make_pipeline\n",
        "from sklearn import svm"
      ],
      "metadata": {
        "id": "b6WXIc8HDT7J"
      },
      "execution_count": null,
      "outputs": []
    },
    {
      "cell_type": "code",
      "source": [
        "X_train, X_test, Y_train, Y_test = train_test_split(X, Y, test_size = 0.3, stratify = Y, random_state = 2)"
      ],
      "metadata": {
        "id": "5_C1i5UCDcP9"
      },
      "execution_count": null,
      "outputs": []
    },
    {
      "cell_type": "code",
      "source": [
        "print(X.shape, X_train.shape, X_test.shape)"
      ],
      "metadata": {
        "colab": {
          "base_uri": "https://localhost:8080/"
        },
        "id": "Eoh8j59_DgDP",
        "outputId": "c671f785-40fd-4c22-9812-051ff61c5857"
      },
      "execution_count": null,
      "outputs": [
        {
          "output_type": "stream",
          "name": "stdout",
          "text": [
            "(36, 4) (25, 4) (11, 4)\n"
          ]
        }
      ]
    },
    {
      "cell_type": "code",
      "source": [
        "#classifier = svm.SVC(kernel='sigmoid')\n",
        "classifier = make_pipeline(StandardScaler(), LogisticRegression())"
      ],
      "metadata": {
        "id": "cwSnjjZ8DjX8"
      },
      "execution_count": null,
      "outputs": []
    },
    {
      "cell_type": "code",
      "source": [
        "classifier.fit(X_train,Y_train)"
      ],
      "metadata": {
        "colab": {
          "base_uri": "https://localhost:8080/"
        },
        "id": "biLGZBtZDl4N",
        "outputId": "8619c71b-3f5e-44a0-9c4f-68977c5066c0"
      },
      "execution_count": null,
      "outputs": [
        {
          "output_type": "execute_result",
          "data": {
            "text/plain": [
              "Pipeline(steps=[('standardscaler', StandardScaler()),\n",
              "                ('logisticregression', LogisticRegression())])"
            ]
          },
          "metadata": {},
          "execution_count": 50
        }
      ]
    },
    {
      "cell_type": "code",
      "source": [
        "#Accuracy score on the training data\n",
        "X_train_prediction = classifier.predict(X_train)\n",
        "training_data_accuracy = accuracy_score(X_train_prediction, Y_train)"
      ],
      "metadata": {
        "id": "ZNUu6TykDnpJ"
      },
      "execution_count": null,
      "outputs": []
    },
    {
      "cell_type": "code",
      "source": [
        "#Accuracy score on the test data\n",
        "X_test_prediction = classifier.predict(X_test)\n",
        "test_data_accuracy = accuracy_score(X_test_prediction, Y_test)"
      ],
      "metadata": {
        "id": "xWyBvouvDqKI"
      },
      "execution_count": null,
      "outputs": []
    },
    {
      "cell_type": "code",
      "source": [
        "print('Accuracy score of the training data : ', training_data_accuracy)\n",
        "print('Accuracy score of the test data : ', test_data_accuracy)"
      ],
      "metadata": {
        "colab": {
          "base_uri": "https://localhost:8080/"
        },
        "id": "QVu6xqOzDu7V",
        "outputId": "0b25df43-b63e-4f3f-b055-cb7628e95427"
      },
      "execution_count": null,
      "outputs": [
        {
          "output_type": "stream",
          "name": "stdout",
          "text": [
            "Accuracy score of the training data :  0.72\n",
            "Accuracy score of the test data :  0.2727272727272727\n"
          ]
        }
      ]
    },
    {
      "cell_type": "code",
      "source": [
        "from sklearn.metrics import confusion_matrix"
      ],
      "metadata": {
        "id": "-ldXh3GOD3uI"
      },
      "execution_count": null,
      "outputs": []
    },
    {
      "cell_type": "code",
      "source": [
        "confusion_matrix(Y_test,X_test_prediction)"
      ],
      "metadata": {
        "colab": {
          "base_uri": "https://localhost:8080/"
        },
        "id": "KHM6tLcGD5Qz",
        "outputId": "820ab662-4110-441b-ba4e-4bf4e9d8fa17"
      },
      "execution_count": null,
      "outputs": [
        {
          "output_type": "execute_result",
          "data": {
            "text/plain": [
              "array([[0, 1, 0, 0, 1, 0],\n",
              "       [0, 1, 1, 0, 0, 0],\n",
              "       [1, 0, 1, 0, 0, 0],\n",
              "       [0, 0, 1, 0, 1, 0],\n",
              "       [0, 0, 0, 0, 1, 0],\n",
              "       [0, 0, 0, 1, 1, 0]])"
            ]
          },
          "metadata": {},
          "execution_count": 57
        }
      ]
    },
    {
      "cell_type": "code",
      "source": [
        "cd /content/drive/MyDrive/Colab Notebooks/datafiles"
      ],
      "metadata": {
        "colab": {
          "base_uri": "https://localhost:8080/"
        },
        "id": "B2yme2QbECHh",
        "outputId": "bca0a336-752a-40bc-fbf9-058879327522"
      },
      "execution_count": null,
      "outputs": [
        {
          "output_type": "stream",
          "name": "stdout",
          "text": [
            "/content/drive/MyDrive/Colab Notebooks/datafiles\n"
          ]
        }
      ]
    },
    {
      "cell_type": "code",
      "source": [
        "%%writefile waterqualitywithfSandOS.py\n",
        "import streamlit as st\n",
        "st.write('waterqualitywithfSandOS')\n",
        "st.write('waterqualitywithfSandOS')"
      ],
      "metadata": {
        "colab": {
          "base_uri": "https://localhost:8080/"
        },
        "id": "tgwKM7lYEaY5",
        "outputId": "dab31b05-ce47-4404-d6fa-bb3bbd4dd716"
      },
      "execution_count": null,
      "outputs": [
        {
          "output_type": "stream",
          "name": "stdout",
          "text": [
            "Writing waterqualitywithfSandOS.py\n"
          ]
        }
      ]
    },
    {
      "cell_type": "code",
      "source": [
        "input_data = ([[6.504876222,159.1821388,13403.08639,6.958284224]] )\n",
        "\n",
        "#Input_data = (20418.88993, 7.214895724, 325.2288808, 16.80039961)\n",
        "\n",
        "#Changing the input_data to numpy array\n",
        "input_data_as_numpy_array = np.asarray(input_data)\n",
        "\n",
        "#Reshape the array as we are predicting for one instance\n",
        "input_data_reshaped = input_data_as_numpy_array.reshape(1,-1)\n",
        "\n",
        "#Standardize the input data\n",
        "std_data = scaler.transform(input_data_reshaped)\n",
        "print(std_data)\n",
        "\n",
        "prediction = classifier.predict(std_data)\n",
        "print(prediction)\n",
        "\n",
        "if (prediction[0] == 0):\n",
        "  print('The wine is low quality')\n",
        "else:\n",
        "  print('The wine is high quality')"
      ],
      "metadata": {
        "colab": {
          "base_uri": "https://localhost:8080/"
        },
        "id": "RtaB31dqFAXz",
        "outputId": "3bc0c303-88bf-401f-ab35-0e5671c13c53"
      },
      "execution_count": null,
      "outputs": [
        {
          "output_type": "stream",
          "name": "stdout",
          "text": [
            "[[ 2.215e+01  6.585e+02  1.003e+05 -2.633e+00]]\n",
            "[8]\n",
            "The wine is high quality\n"
          ]
        }
      ]
    },
    {
      "cell_type": "code",
      "source": [
        "import pickle"
      ],
      "metadata": {
        "id": "bUY3cyn_F-Nd"
      },
      "execution_count": null,
      "outputs": []
    },
    {
      "cell_type": "code",
      "source": [
        "filename = 'waterquality_trainedModel.sav'\n",
        "pickle.dump(classifier,open(filename,'wb'))"
      ],
      "metadata": {
        "id": "dWvqBMYaGezK"
      },
      "execution_count": null,
      "outputs": []
    },
    {
      "cell_type": "code",
      "source": [
        "loaded_model = pickle.load(open('waterquality_trainedModel.sav','rb'))"
      ],
      "metadata": {
        "id": "P59yiP3rGh-d"
      },
      "execution_count": null,
      "outputs": []
    },
    {
      "cell_type": "code",
      "source": [
        "input_data = ([[6.504876222,159.1821388,13403.08639,6.958284224]] )\n",
        "\n",
        "#input_data = (20418.88993, 7.214895724, 325.2288808, 16.80039961)\n",
        "\n",
        "# changing the input_data to numpy array\n",
        "input_data_as_numpy_array = np.asarray(input_data)\n",
        "\n",
        "# reshape the array as we are predicting for one instance\n",
        "input_data_reshaped = input_data_as_numpy_array.reshape(1,-1)\n",
        "\n",
        "# standardize the input data\n",
        "std_data = scaler.transform(input_data_reshaped)\n",
        "print(std_data)\n",
        "\n",
        "prediction = classifier.predict(std_data)\n",
        "print(prediction)\n",
        "\n",
        "if (prediction[0] == 0):\n",
        "  print('The wine is low quality')\n",
        "else:\n",
        "  print('The wine is high quality')"
      ],
      "metadata": {
        "colab": {
          "base_uri": "https://localhost:8080/"
        },
        "id": "MQ-esxqhGlMy",
        "outputId": "cb102694-6b35-4f12-e313-1fa45aae81ee"
      },
      "execution_count": null,
      "outputs": [
        {
          "output_type": "stream",
          "name": "stdout",
          "text": [
            "[[ 2.215e+01  6.585e+02  1.003e+05 -2.633e+00]]\n",
            "[8]\n",
            "The wine is high quality\n"
          ]
        }
      ]
    }
  ]
}